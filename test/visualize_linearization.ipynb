{
 "cells": [
  {
   "cell_type": "code",
   "execution_count": 28,
   "metadata": {},
   "outputs": [],
   "source": [
    "import spacy\n",
    "import json\n",
    "nlp = spacy.load(\"en_core_web_lg\")\n",
    "# nlp = spacy.load(\"zh_core_web_sm\")\n",
    "#nlp = spacy.load(\"ru_core_news_lg\")"
   ]
  },
  {
   "cell_type": "code",
   "execution_count": 30,
   "metadata": {},
   "outputs": [],
   "source": [
    "from spacy.language import Doc\n",
    "from spacy.tokens import Span\n",
    "from dataclasses import dataclass\n",
    "from typing import Dict, Tuple, Iterable, List\n",
    "import re\n",
    "\n",
    "@dataclass\n",
    "class Match:\n",
    "    pattern_name:str\n",
    "    matched:str\n",
    "    sentence:str\n",
    "    \n",
    "    def __repr__(self) -> str:\n",
    "        return f\"{self.pattern_name} : {self.sentence}\"\n",
    "\n",
    "class SyntaxRegexMatcher:\n",
    "    \"\"\"\n",
    "    This class encapsulates the sentence regex patterns and methods to apply them to target documents\n",
    "    \"\"\"\n",
    "    def __init__(self, language:str):\n",
    "        if language == \"en\":\n",
    "            self.patterns = {\n",
    "                \"it-cleft\": r\"\\([^-]*-be-[^-]*-[^-]*.*\\([iI]t-it-PRP-nsubj\\).*\\([^-]*-[^-]*-NN[^-]*-attr.*\\([^-]*-[^-]*-VB[^-]*-(relcl|advcl)\",\n",
    "                \"pseudo-cleft\": r\"\\([^-]*-be-[^-]*-[^-]*.*\\([^-]*-[^-]*-(WP|WRB)-(dobj|advmod)\",\n",
    "                \"all-cleft\" : r\"(\\([^-]*-be-[^-]*-[^-]*.*\\([^-]*-all-(P)?DT)|(\\([^-]*-all-(P)?DT-[^-]*.*\\([^-]*-be-[^-]*)\",\n",
    "                \"there-cleft\": r\"\\([^-]*-be-[^-]*-[^-]*.*\\([^-]*-there-EX-expl.*\\([^-]*-[^-]*-[^-]*-attr.*\\([^-]*-[^-]*-[^-]*-(relcl|acl)\",\n",
    "                \"if-because-cleft\" : r\"\\([^-]*-be-[^-]*-[^-]*.*\\([^-]*-[^-]*-[^-]*-advcl\\([^-*]*-if-IN-mark\",\n",
    "                \"passive\" : r\"\\([^-]*-[^-]*-(NN[^-]*|PRP|WDT)-nsubjpass.*\\([^-]*-be-[^-]*-auxpass\",\n",
    "                \"subj-relcl\" : r\"\\([^-]*-[^-]*-[^-]*-relcl.*\\([^-]*-[^-]*-(WP|WDT)-nsubj\",\n",
    "                \"obj-relcl\" : r\"\\([^-]*-[^-]*-NN[^-]*-(nsubj|attr).*\\([^-]*-[^-]*-[^-]*-(relcl|ccomp).*\\([^-]*-[^-]*-(WP|WDT|IN)-(pobj|dobj)\",\n",
    "                \"tag-question\" : r\"\\([^-]*-(do|be|could|can|have)-[^-]*-ROOT.*\\(\\?-\\?-\\.-punct\",\n",
    "                \"coordinate-clause\" : r\"\\([^-]*-[^-]*-CC-cc\\).*\\([^-]*-[^-]*-(VB[^-]*|JJ)-conj.*\\([^-]*-[^-]*-[^-]*-nsubj\",\n",
    "                \n",
    "            }\n",
    "\n",
    "        elif language == \"ru\":\n",
    "            print(\"using russian constructions\")\n",
    "            self.patterns = {\n",
    "                \"passive_rus\" : r\"\\([^-]*-[^-]*-(NOUN[^-]*|PRON)-nsubj:pass.*\\)\",\n",
    "                \"parataxis_rus\": r\"\\([^-]*-[^-]*-[^-]*-parataxis.*\\)\",\n",
    "                \"participle_gerund_rus\": r\"\\([^-]*-[^-]*-(VERB-acl(?!:relcl)|ADJ-amod|VERB-advcl).*?\\)\",\n",
    "                \"conj_rus\": r\"\\([^()]*-[^-]*-[^-]*-conj[^()]*\\)\",\n",
    "                \"nested_structure_rus\": r\"\\([^-]*-[^-]*-(VERB-acl:relcl).*?\\)\",\n",
    "                \"one_word_sent_rus\": r\"\\([^-]*-[^-]*-(NOUN|VERB)-ROOT\\(.*?-PUNCT-punct\\)\\)\"\n",
    "            }\n",
    "\n",
    "        self.language = language\n",
    "\n",
    "    def print_patterns(self) -> None:\n",
    "        for pattern_name, pattern in self.patterns.items():\n",
    "            print(f\"{pattern_name} : {pattern}\\n\")\n",
    "\n",
    "        \n",
    "    def _find_treegex_matches(self, doc:Doc) -> Tuple[Match]:\n",
    "        \"\"\"Iterates through a document's sentences, applying every regex to each sentence\"\"\"\n",
    "        matches = []\n",
    "        for sent in doc.sents:\n",
    "            tree_string = self.linearize_tree(sent)\n",
    "            for name, pattern in self.patterns.items():\n",
    "                match = re.search(pattern, tree_string)\n",
    "                if match:\n",
    "                    matches.append(Match(name, match.group(), sent.text))\n",
    "        return tuple(matches)\n",
    "\n",
    "    def add_patterns(self, patterns:Dict[str,str]) -> None:\n",
    "        \"\"\"Updates the default patterns dictionary with a user supplied dictionary of {pattern_name:regex} pairs\"\"\"\n",
    "        self.patterns.update(patterns)\n",
    "        \n",
    "    def remove_patterns(self, to_remove:Iterable[str]) -> None:\n",
    "        \"\"\"Given an iterable of pattern names, removes those patterns from the registered pattens list\"\"\"\n",
    "        for pattern_name in to_remove:\n",
    "            try:\n",
    "                del self.patterns[pattern_name]\n",
    "            except KeyError:\n",
    "                raise KeyError(f\"Pattern '{pattern_name}' not in registered patterns.\")\n",
    "            \n",
    "            \n",
    "    def match_document(self, document:Doc) -> Tuple[Match]:\n",
    "        \"\"\"\n",
    "        Applies all registered patterns to one spaCy-generated document\n",
    "        \n",
    "        Args\n",
    "        ----\n",
    "            - document - a single spaCy document\\n\n",
    "        Returns\n",
    "        -------\n",
    "            - a tuple of sentence matches for a single document\n",
    "        \"\"\"\n",
    "        return self._find_treegex_matches(document)\n",
    "\n",
    "    def match_documents(self, documents:Iterable[Doc]) -> List[Tuple[Match]]:\n",
    "        \"\"\"\n",
    "        Applies all registered patterns to a collection of spaCy-generated documents\n",
    "        \n",
    "        Args\n",
    "        ----\n",
    "            - documents - iterable of spacy documents\\n\n",
    "        Returns\n",
    "        -------\n",
    "            - A list of tuples such that each tuple contains one document's sentence matches\n",
    "        \"\"\"\n",
    "        all_matches = []\n",
    "        for document in documents:\n",
    "            all_matches.append(self._find_treegex_matches(document))\n",
    "        return all_matches\n",
    "    \n",
    "    def linearize_tree(self, sentence:Span) -> str:\n",
    "        \"\"\"Converts a spaCy dependency-parsed sentence into a linear tree string while preserving dependency relations\"\"\"\n",
    "        \n",
    "        def get_NT_count(sentence) -> int:\n",
    "            \"\"\"Returns the number of non-terminal nodes in a dep tree\"\"\"\n",
    "            return sum([1 for token in sentence if list(token.children)])\n",
    "\n",
    "        def ending_parenthesis(n:int) -> str:\n",
    "            \"\"\"Returns the appropriate amount of parenthesis to add to linearlized tree\"\"\"\n",
    "            return f\"{')' * n}\"\n",
    "        \n",
    "        def parse_dependency_parse(sentence):\n",
    "            \"\"\"Processes a dependency parse in a bottom-up fashion\"\"\"\n",
    "            stack = [sentence.root]\n",
    "            result = \"\"\n",
    "            while stack:\n",
    "                token = stack.pop()\n",
    "                if self.language == \"en\":\n",
    "                    result += f\"({token.text}-{token.lemma_}-{token.tag_}-{token.dep_}-{token.ent_type_}\" \n",
    "                elif self.language == \"ru\":\n",
    "                    result += f\"({token.text}-{token.lemma_}-{token.tag_}-{token.dep_}-{token.morph}\" \n",
    "                \n",
    "                for child in reversed(list(token.children)):\n",
    "                    stack.append(child)\n",
    "                \n",
    "                if not list(token.children):\n",
    "                    result += \")\"\n",
    "            return result\n",
    "        \n",
    "        parse = parse_dependency_parse(sentence)\n",
    "        nt_count = get_NT_count(sentence)\n",
    "        print(f\"{parse}{ending_parenthesis(nt_count)}\")\n",
    "        return f\"{parse}{ending_parenthesis(nt_count)}\"\n",
    "    "
   ]
  },
  {
   "cell_type": "code",
   "execution_count": 3,
   "metadata": {},
   "outputs": [],
   "source": [
    "matcher = SyntaxRegexMatcher(language=\"en\")\n"
   ]
  },
  {
   "cell_type": "code",
   "execution_count": 23,
   "metadata": {},
   "outputs": [
    {
     "data": {
      "text/html": [
       "<span class=\"tex2jax_ignore\"><svg xmlns=\"http://www.w3.org/2000/svg\" xmlns:xlink=\"http://www.w3.org/1999/xlink\" xml:lang=\"ru\" id=\"16d3fb28a7e84d3f82a9f5feb7efc7f7-0\" class=\"displacy\" width=\"1250\" height=\"362.0\" direction=\"ltr\" style=\"max-width: none; height: 362.0px; color: #000000; background: #ffffff; font-family: Source Sans Pro; direction: ltr\">\n",
       "<text class=\"displacy-token\" fill=\"currentColor\" text-anchor=\"middle\" y=\"272.0\">\n",
       "    <tspan class=\"displacy-word\" fill=\"currentColor\" x=\"50\">Причина</tspan>\n",
       "    <tspan class=\"displacy-tag\" dy=\"2em\" fill=\"currentColor\" x=\"50\">NOUN</tspan>\n",
       "</text>\n",
       "\n",
       "<text class=\"displacy-token\" fill=\"currentColor\" text-anchor=\"middle\" y=\"272.0\">\n",
       "    <tspan class=\"displacy-word\" fill=\"currentColor\" x=\"200\">проста –</tspan>\n",
       "    <tspan class=\"displacy-tag\" dy=\"2em\" fill=\"currentColor\" x=\"200\">ADJ</tspan>\n",
       "</text>\n",
       "\n",
       "<text class=\"displacy-token\" fill=\"currentColor\" text-anchor=\"middle\" y=\"272.0\">\n",
       "    <tspan class=\"displacy-word\" fill=\"currentColor\" x=\"350\">многие</tspan>\n",
       "    <tspan class=\"displacy-tag\" dy=\"2em\" fill=\"currentColor\" x=\"350\">NOUN</tspan>\n",
       "</text>\n",
       "\n",
       "<text class=\"displacy-token\" fill=\"currentColor\" text-anchor=\"middle\" y=\"272.0\">\n",
       "    <tspan class=\"displacy-word\" fill=\"currentColor\" x=\"500\">занимаются</tspan>\n",
       "    <tspan class=\"displacy-tag\" dy=\"2em\" fill=\"currentColor\" x=\"500\">VERB</tspan>\n",
       "</text>\n",
       "\n",
       "<text class=\"displacy-token\" fill=\"currentColor\" text-anchor=\"middle\" y=\"272.0\">\n",
       "    <tspan class=\"displacy-word\" fill=\"currentColor\" x=\"650\">английским</tspan>\n",
       "    <tspan class=\"displacy-tag\" dy=\"2em\" fill=\"currentColor\" x=\"650\">ADJ</tspan>\n",
       "</text>\n",
       "\n",
       "<text class=\"displacy-token\" fill=\"currentColor\" text-anchor=\"middle\" y=\"272.0\">\n",
       "    <tspan class=\"displacy-word\" fill=\"currentColor\" x=\"800\">языком</tspan>\n",
       "    <tspan class=\"displacy-tag\" dy=\"2em\" fill=\"currentColor\" x=\"800\">NOUN</tspan>\n",
       "</text>\n",
       "\n",
       "<text class=\"displacy-token\" fill=\"currentColor\" text-anchor=\"middle\" y=\"272.0\">\n",
       "    <tspan class=\"displacy-word\" fill=\"currentColor\" x=\"950\">вне</tspan>\n",
       "    <tspan class=\"displacy-tag\" dy=\"2em\" fill=\"currentColor\" x=\"950\">ADP</tspan>\n",
       "</text>\n",
       "\n",
       "<text class=\"displacy-token\" fill=\"currentColor\" text-anchor=\"middle\" y=\"272.0\">\n",
       "    <tspan class=\"displacy-word\" fill=\"currentColor\" x=\"1100\">школы.</tspan>\n",
       "    <tspan class=\"displacy-tag\" dy=\"2em\" fill=\"currentColor\" x=\"1100\">NOUN</tspan>\n",
       "</text>\n",
       "\n",
       "<g class=\"displacy-arrow\">\n",
       "    <path class=\"displacy-arc\" id=\"arrow-16d3fb28a7e84d3f82a9f5feb7efc7f7-0-0\" stroke-width=\"2px\" d=\"M62,227.0 62,202.0 194.0,202.0 194.0,227.0\" fill=\"none\" stroke=\"currentColor\"/>\n",
       "    <text dy=\"1.25em\" style=\"font-size: 0.8em; letter-spacing: 1px\">\n",
       "        <textPath xlink:href=\"#arrow-16d3fb28a7e84d3f82a9f5feb7efc7f7-0-0\" class=\"displacy-label\" startOffset=\"50%\" side=\"left\" fill=\"currentColor\" text-anchor=\"middle\">nsubj</textPath>\n",
       "    </text>\n",
       "    <path class=\"displacy-arrowhead\" d=\"M62,229.0 L58,221.0 66,221.0\" fill=\"currentColor\"/>\n",
       "</g>\n",
       "\n",
       "<g class=\"displacy-arrow\">\n",
       "    <path class=\"displacy-arc\" id=\"arrow-16d3fb28a7e84d3f82a9f5feb7efc7f7-0-1\" stroke-width=\"2px\" d=\"M362,227.0 362,202.0 494.0,202.0 494.0,227.0\" fill=\"none\" stroke=\"currentColor\"/>\n",
       "    <text dy=\"1.25em\" style=\"font-size: 0.8em; letter-spacing: 1px\">\n",
       "        <textPath xlink:href=\"#arrow-16d3fb28a7e84d3f82a9f5feb7efc7f7-0-1\" class=\"displacy-label\" startOffset=\"50%\" side=\"left\" fill=\"currentColor\" text-anchor=\"middle\">nsubj</textPath>\n",
       "    </text>\n",
       "    <path class=\"displacy-arrowhead\" d=\"M362,229.0 L358,221.0 366,221.0\" fill=\"currentColor\"/>\n",
       "</g>\n",
       "\n",
       "<g class=\"displacy-arrow\">\n",
       "    <path class=\"displacy-arc\" id=\"arrow-16d3fb28a7e84d3f82a9f5feb7efc7f7-0-2\" stroke-width=\"2px\" d=\"M212,227.0 212,177.0 497.0,177.0 497.0,227.0\" fill=\"none\" stroke=\"currentColor\"/>\n",
       "    <text dy=\"1.25em\" style=\"font-size: 0.8em; letter-spacing: 1px\">\n",
       "        <textPath xlink:href=\"#arrow-16d3fb28a7e84d3f82a9f5feb7efc7f7-0-2\" class=\"displacy-label\" startOffset=\"50%\" side=\"left\" fill=\"currentColor\" text-anchor=\"middle\">parataxis</textPath>\n",
       "    </text>\n",
       "    <path class=\"displacy-arrowhead\" d=\"M497.0,229.0 L501.0,221.0 493.0,221.0\" fill=\"currentColor\"/>\n",
       "</g>\n",
       "\n",
       "<g class=\"displacy-arrow\">\n",
       "    <path class=\"displacy-arc\" id=\"arrow-16d3fb28a7e84d3f82a9f5feb7efc7f7-0-3\" stroke-width=\"2px\" d=\"M662,227.0 662,202.0 794.0,202.0 794.0,227.0\" fill=\"none\" stroke=\"currentColor\"/>\n",
       "    <text dy=\"1.25em\" style=\"font-size: 0.8em; letter-spacing: 1px\">\n",
       "        <textPath xlink:href=\"#arrow-16d3fb28a7e84d3f82a9f5feb7efc7f7-0-3\" class=\"displacy-label\" startOffset=\"50%\" side=\"left\" fill=\"currentColor\" text-anchor=\"middle\">amod</textPath>\n",
       "    </text>\n",
       "    <path class=\"displacy-arrowhead\" d=\"M662,229.0 L658,221.0 666,221.0\" fill=\"currentColor\"/>\n",
       "</g>\n",
       "\n",
       "<g class=\"displacy-arrow\">\n",
       "    <path class=\"displacy-arc\" id=\"arrow-16d3fb28a7e84d3f82a9f5feb7efc7f7-0-4\" stroke-width=\"2px\" d=\"M512,227.0 512,177.0 797.0,177.0 797.0,227.0\" fill=\"none\" stroke=\"currentColor\"/>\n",
       "    <text dy=\"1.25em\" style=\"font-size: 0.8em; letter-spacing: 1px\">\n",
       "        <textPath xlink:href=\"#arrow-16d3fb28a7e84d3f82a9f5feb7efc7f7-0-4\" class=\"displacy-label\" startOffset=\"50%\" side=\"left\" fill=\"currentColor\" text-anchor=\"middle\">obl</textPath>\n",
       "    </text>\n",
       "    <path class=\"displacy-arrowhead\" d=\"M797.0,229.0 L801.0,221.0 793.0,221.0\" fill=\"currentColor\"/>\n",
       "</g>\n",
       "\n",
       "<g class=\"displacy-arrow\">\n",
       "    <path class=\"displacy-arc\" id=\"arrow-16d3fb28a7e84d3f82a9f5feb7efc7f7-0-5\" stroke-width=\"2px\" d=\"M962,227.0 962,202.0 1094.0,202.0 1094.0,227.0\" fill=\"none\" stroke=\"currentColor\"/>\n",
       "    <text dy=\"1.25em\" style=\"font-size: 0.8em; letter-spacing: 1px\">\n",
       "        <textPath xlink:href=\"#arrow-16d3fb28a7e84d3f82a9f5feb7efc7f7-0-5\" class=\"displacy-label\" startOffset=\"50%\" side=\"left\" fill=\"currentColor\" text-anchor=\"middle\">case</textPath>\n",
       "    </text>\n",
       "    <path class=\"displacy-arrowhead\" d=\"M962,229.0 L958,221.0 966,221.0\" fill=\"currentColor\"/>\n",
       "</g>\n",
       "\n",
       "<g class=\"displacy-arrow\">\n",
       "    <path class=\"displacy-arc\" id=\"arrow-16d3fb28a7e84d3f82a9f5feb7efc7f7-0-6\" stroke-width=\"2px\" d=\"M512,227.0 512,152.0 1100.0,152.0 1100.0,227.0\" fill=\"none\" stroke=\"currentColor\"/>\n",
       "    <text dy=\"1.25em\" style=\"font-size: 0.8em; letter-spacing: 1px\">\n",
       "        <textPath xlink:href=\"#arrow-16d3fb28a7e84d3f82a9f5feb7efc7f7-0-6\" class=\"displacy-label\" startOffset=\"50%\" side=\"left\" fill=\"currentColor\" text-anchor=\"middle\">obl</textPath>\n",
       "    </text>\n",
       "    <path class=\"displacy-arrowhead\" d=\"M1100.0,229.0 L1104.0,221.0 1096.0,221.0\" fill=\"currentColor\"/>\n",
       "</g>\n",
       "</svg></span>"
      ],
      "text/plain": [
       "<IPython.core.display.HTML object>"
      ]
     },
     "metadata": {},
     "output_type": "display_data"
    },
    {
     "name": "stdout",
     "output_type": "stream",
     "text": [
      "(проста-простой-ADJ-ROOT-Degree=Pos|Gender=Fem|Number=Sing|StyleVariant=Short(Причина-причина-NOUN-nsubj-Animacy=Inan|Case=Nom|Gender=Fem|Number=Sing)(занимаются-заниматься-VERB-parataxis-Aspect=Imp|Mood=Ind|Number=Plur|Person=Third|Tense=Pres|VerbForm=Fin|Voice=Mid(–-–-PUNCT-punct-)(многие-многие-NOUN-nsubj-Animacy=Anim|Case=Nom|Gender=Masc|Number=Plur)(языком-язык-NOUN-obl-Animacy=Inan|Case=Ins|Gender=Masc|Number=Sing(английским-английский-ADJ-amod-Case=Ins|Degree=Pos|Gender=Masc|Number=Sing)(школы-школа-NOUN-obl-Animacy=Inan|Case=Gen|Gender=Fem|Number=Sing(вне-вне-ADP-case-)(.-.-PUNCT-punct-)))))\n"
     ]
    }
   ],
   "source": [
    "russian_text_1 = \"Причина проста – многие занимаются английским языком вне школы.\"\n",
    "\n",
    "from spacy import displacy\n",
    "\n",
    "# Visualize the dependency parse\n",
    "options = {\"compact\": True, \"bg\": \"#ffffff\",\n",
    "           \"color\": \"#000000\", \"font\": \"Source Sans Pro\"}\n",
    "displacy.render(nlp(russian_text_1), style=\"dep\", options=options)\n",
    "\n",
    "document = nlp(russian_text_1)\n",
    "for sent in document.sents:\n",
    "    tree_string = matcher.linearize_tree(sent)"
   ]
  },
  {
   "cell_type": "code",
   "execution_count": 24,
   "metadata": {},
   "outputs": [
    {
     "name": "stdout",
     "output_type": "stream",
     "text": [
      "(проста-простой-ADJ-ROOT-Degree=Pos|Gender=Fem|Number=Sing|StyleVariant=Short(Причина-причина-NOUN-nsubj-Animacy=Inan|Case=Nom|Gender=Fem|Number=Sing)(занимаются-заниматься-VERB-parataxis-Aspect=Imp|Mood=Ind|Number=Plur|Person=Third|Tense=Pres|VerbForm=Fin|Voice=Mid(–-–-PUNCT-punct-)(многие-многие-NOUN-nsubj-Animacy=Anim|Case=Nom|Gender=Masc|Number=Plur)(языком-язык-NOUN-obl-Animacy=Inan|Case=Ins|Gender=Masc|Number=Sing(английским-английский-ADJ-amod-Case=Ins|Degree=Pos|Gender=Masc|Number=Sing)(школы-школа-NOUN-obl-Animacy=Inan|Case=Gen|Gender=Fem|Number=Sing(вне-вне-ADP-case-)(.-.-PUNCT-punct-)))))\n",
      "parataxis_rus : Причина проста – многие занимаются английским языком вне школы.\n",
      "participle_gerund_rus : Причина проста – многие занимаются английским языком вне школы.\n"
     ]
    }
   ],
   "source": [
    "matches = matcher.match_document(document)\n",
    "for match in matches:\n",
    "    print(match)"
   ]
  },
  {
   "cell_type": "code",
   "execution_count": 25,
   "metadata": {},
   "outputs": [
    {
     "data": {
      "text/html": [
       "<span class=\"tex2jax_ignore\"><svg xmlns=\"http://www.w3.org/2000/svg\" xmlns:xlink=\"http://www.w3.org/1999/xlink\" xml:lang=\"ru\" id=\"4b07e08dfc4e4199b27f345faa96fc6f-0\" class=\"displacy\" width=\"1100\" height=\"287.0\" direction=\"ltr\" style=\"max-width: none; height: 287.0px; color: #000000; background: #ffffff; font-family: Source Sans Pro; direction: ltr\">\n",
       "<text class=\"displacy-token\" fill=\"currentColor\" text-anchor=\"middle\" y=\"197.0\">\n",
       "    <tspan class=\"displacy-word\" fill=\"currentColor\" x=\"50\">У</tspan>\n",
       "    <tspan class=\"displacy-tag\" dy=\"2em\" fill=\"currentColor\" x=\"50\">ADP</tspan>\n",
       "</text>\n",
       "\n",
       "<text class=\"displacy-token\" fill=\"currentColor\" text-anchor=\"middle\" y=\"197.0\">\n",
       "    <tspan class=\"displacy-word\" fill=\"currentColor\" x=\"200\">меня</tspan>\n",
       "    <tspan class=\"displacy-tag\" dy=\"2em\" fill=\"currentColor\" x=\"200\">PRON</tspan>\n",
       "</text>\n",
       "\n",
       "<text class=\"displacy-token\" fill=\"currentColor\" text-anchor=\"middle\" y=\"197.0\">\n",
       "    <tspan class=\"displacy-word\" fill=\"currentColor\" x=\"350\">есть</tspan>\n",
       "    <tspan class=\"displacy-tag\" dy=\"2em\" fill=\"currentColor\" x=\"350\">VERB</tspan>\n",
       "</text>\n",
       "\n",
       "<text class=\"displacy-token\" fill=\"currentColor\" text-anchor=\"middle\" y=\"197.0\">\n",
       "    <tspan class=\"displacy-word\" fill=\"currentColor\" x=\"500\">подруга,</tspan>\n",
       "    <tspan class=\"displacy-tag\" dy=\"2em\" fill=\"currentColor\" x=\"500\">NOUN</tspan>\n",
       "</text>\n",
       "\n",
       "<text class=\"displacy-token\" fill=\"currentColor\" text-anchor=\"middle\" y=\"197.0\">\n",
       "    <tspan class=\"displacy-word\" fill=\"currentColor\" x=\"650\">живущая</tspan>\n",
       "    <tspan class=\"displacy-tag\" dy=\"2em\" fill=\"currentColor\" x=\"650\">VERB</tspan>\n",
       "</text>\n",
       "\n",
       "<text class=\"displacy-token\" fill=\"currentColor\" text-anchor=\"middle\" y=\"197.0\">\n",
       "    <tspan class=\"displacy-word\" fill=\"currentColor\" x=\"800\">в</tspan>\n",
       "    <tspan class=\"displacy-tag\" dy=\"2em\" fill=\"currentColor\" x=\"800\">ADP</tspan>\n",
       "</text>\n",
       "\n",
       "<text class=\"displacy-token\" fill=\"currentColor\" text-anchor=\"middle\" y=\"197.0\">\n",
       "    <tspan class=\"displacy-word\" fill=\"currentColor\" x=\"950\">Мексике.</tspan>\n",
       "    <tspan class=\"displacy-tag\" dy=\"2em\" fill=\"currentColor\" x=\"950\">PROPN</tspan>\n",
       "</text>\n",
       "\n",
       "<g class=\"displacy-arrow\">\n",
       "    <path class=\"displacy-arc\" id=\"arrow-4b07e08dfc4e4199b27f345faa96fc6f-0-0\" stroke-width=\"2px\" d=\"M62,152.0 62,127.0 197.0,127.0 197.0,152.0\" fill=\"none\" stroke=\"currentColor\"/>\n",
       "    <text dy=\"1.25em\" style=\"font-size: 0.8em; letter-spacing: 1px\">\n",
       "        <textPath xlink:href=\"#arrow-4b07e08dfc4e4199b27f345faa96fc6f-0-0\" class=\"displacy-label\" startOffset=\"50%\" side=\"left\" fill=\"currentColor\" text-anchor=\"middle\">case</textPath>\n",
       "    </text>\n",
       "    <path class=\"displacy-arrowhead\" d=\"M62,154.0 L58,146.0 66,146.0\" fill=\"currentColor\"/>\n",
       "</g>\n",
       "\n",
       "<g class=\"displacy-arrow\">\n",
       "    <path class=\"displacy-arc\" id=\"arrow-4b07e08dfc4e4199b27f345faa96fc6f-0-1\" stroke-width=\"2px\" d=\"M212,152.0 212,127.0 347.0,127.0 347.0,152.0\" fill=\"none\" stroke=\"currentColor\"/>\n",
       "    <text dy=\"1.25em\" style=\"font-size: 0.8em; letter-spacing: 1px\">\n",
       "        <textPath xlink:href=\"#arrow-4b07e08dfc4e4199b27f345faa96fc6f-0-1\" class=\"displacy-label\" startOffset=\"50%\" side=\"left\" fill=\"currentColor\" text-anchor=\"middle\">obl</textPath>\n",
       "    </text>\n",
       "    <path class=\"displacy-arrowhead\" d=\"M212,154.0 L208,146.0 216,146.0\" fill=\"currentColor\"/>\n",
       "</g>\n",
       "\n",
       "<g class=\"displacy-arrow\">\n",
       "    <path class=\"displacy-arc\" id=\"arrow-4b07e08dfc4e4199b27f345faa96fc6f-0-2\" stroke-width=\"2px\" d=\"M362,152.0 362,127.0 497.0,127.0 497.0,152.0\" fill=\"none\" stroke=\"currentColor\"/>\n",
       "    <text dy=\"1.25em\" style=\"font-size: 0.8em; letter-spacing: 1px\">\n",
       "        <textPath xlink:href=\"#arrow-4b07e08dfc4e4199b27f345faa96fc6f-0-2\" class=\"displacy-label\" startOffset=\"50%\" side=\"left\" fill=\"currentColor\" text-anchor=\"middle\">nsubj</textPath>\n",
       "    </text>\n",
       "    <path class=\"displacy-arrowhead\" d=\"M497.0,154.0 L501.0,146.0 493.0,146.0\" fill=\"currentColor\"/>\n",
       "</g>\n",
       "\n",
       "<g class=\"displacy-arrow\">\n",
       "    <path class=\"displacy-arc\" id=\"arrow-4b07e08dfc4e4199b27f345faa96fc6f-0-3\" stroke-width=\"2px\" d=\"M512,152.0 512,127.0 647.0,127.0 647.0,152.0\" fill=\"none\" stroke=\"currentColor\"/>\n",
       "    <text dy=\"1.25em\" style=\"font-size: 0.8em; letter-spacing: 1px\">\n",
       "        <textPath xlink:href=\"#arrow-4b07e08dfc4e4199b27f345faa96fc6f-0-3\" class=\"displacy-label\" startOffset=\"50%\" side=\"left\" fill=\"currentColor\" text-anchor=\"middle\">acl</textPath>\n",
       "    </text>\n",
       "    <path class=\"displacy-arrowhead\" d=\"M647.0,154.0 L651.0,146.0 643.0,146.0\" fill=\"currentColor\"/>\n",
       "</g>\n",
       "\n",
       "<g class=\"displacy-arrow\">\n",
       "    <path class=\"displacy-arc\" id=\"arrow-4b07e08dfc4e4199b27f345faa96fc6f-0-4\" stroke-width=\"2px\" d=\"M812,152.0 812,127.0 947.0,127.0 947.0,152.0\" fill=\"none\" stroke=\"currentColor\"/>\n",
       "    <text dy=\"1.25em\" style=\"font-size: 0.8em; letter-spacing: 1px\">\n",
       "        <textPath xlink:href=\"#arrow-4b07e08dfc4e4199b27f345faa96fc6f-0-4\" class=\"displacy-label\" startOffset=\"50%\" side=\"left\" fill=\"currentColor\" text-anchor=\"middle\">case</textPath>\n",
       "    </text>\n",
       "    <path class=\"displacy-arrowhead\" d=\"M812,154.0 L808,146.0 816,146.0\" fill=\"currentColor\"/>\n",
       "</g>\n",
       "\n",
       "<g class=\"displacy-arrow\">\n",
       "    <path class=\"displacy-arc\" id=\"arrow-4b07e08dfc4e4199b27f345faa96fc6f-0-5\" stroke-width=\"2px\" d=\"M662,152.0 662,102.0 950.0,102.0 950.0,152.0\" fill=\"none\" stroke=\"currentColor\"/>\n",
       "    <text dy=\"1.25em\" style=\"font-size: 0.8em; letter-spacing: 1px\">\n",
       "        <textPath xlink:href=\"#arrow-4b07e08dfc4e4199b27f345faa96fc6f-0-5\" class=\"displacy-label\" startOffset=\"50%\" side=\"left\" fill=\"currentColor\" text-anchor=\"middle\">obl</textPath>\n",
       "    </text>\n",
       "    <path class=\"displacy-arrowhead\" d=\"M950.0,154.0 L954.0,146.0 946.0,146.0\" fill=\"currentColor\"/>\n",
       "</g>\n",
       "</svg></span>"
      ],
      "text/plain": [
       "<IPython.core.display.HTML object>"
      ]
     },
     "metadata": {},
     "output_type": "display_data"
    },
    {
     "name": "stdout",
     "output_type": "stream",
     "text": [
      "(есть-быть-VERB-ROOT-Aspect=Imp|Mood=Ind|Number=Sing|Person=Third|Tense=Pres|VerbForm=Fin|Voice=Act(меня-меня-PRON-obl-Case=Gen|Number=Sing|Person=First(У-у-ADP-case-)(подруга-подруга-NOUN-nsubj-Animacy=Anim|Case=Nom|Gender=Fem|Number=Sing(живущая-жить-VERB-acl-Aspect=Imp|Case=Nom|Gender=Fem|Number=Sing|Tense=Pres|VerbForm=Part|Voice=Act(,-,-PUNCT-punct-)(Мексике-мексика-PROPN-obl-Animacy=Inan|Case=Loc|Gender=Fem|Number=Sing(в-в-ADP-case-)(.-.-PUNCT-punct-))))))\n"
     ]
    }
   ],
   "source": [
    "# text = \"It was John who bought the butter.\"\n",
    "# russian_text = \"Это Джон купил масло.\"\n",
    "russian_text = \"У меня есть подруга, живущая в Мексике.\"\n",
    "#from spacy import displacy\n",
    "\n",
    "# Visualize the dependency parse\n",
    "options = {\"compact\": True, \"bg\": \"#ffffff\",\n",
    "           \"color\": \"#000000\", \"font\": \"Source Sans Pro\"}\n",
    "displacy.render(nlp(russian_text), style=\"dep\", options=options)\n",
    "\n",
    "document = nlp(russian_text)\n",
    "for sent in document.sents:\n",
    "    tree_string = matcher.linearize_tree(sent)"
   ]
  },
  {
   "cell_type": "raw",
   "metadata": {},
   "source": [
    "linearize_tree(sent)"
   ]
  },
  {
   "cell_type": "code",
   "execution_count": 26,
   "metadata": {},
   "outputs": [
    {
     "name": "stdout",
     "output_type": "stream",
     "text": [
      "(есть-быть-VERB-ROOT-Aspect=Imp|Mood=Ind|Number=Sing|Person=Third|Tense=Pres|VerbForm=Fin|Voice=Act(меня-меня-PRON-obl-Case=Gen|Number=Sing|Person=First(У-у-ADP-case-)(подруга-подруга-NOUN-nsubj-Animacy=Anim|Case=Nom|Gender=Fem|Number=Sing(живущая-жить-VERB-acl-Aspect=Imp|Case=Nom|Gender=Fem|Number=Sing|Tense=Pres|VerbForm=Part|Voice=Act(,-,-PUNCT-punct-)(Мексике-мексика-PROPN-obl-Animacy=Inan|Case=Loc|Gender=Fem|Number=Sing(в-в-ADP-case-)(.-.-PUNCT-punct-))))))\n",
      "participle_gerund_rus : У меня есть подруга, живущая в Мексике.\n"
     ]
    }
   ],
   "source": [
    "matches = matcher.match_document(document)\n",
    "for match in matches:\n",
    "    print(match)"
   ]
  },
  {
   "cell_type": "code",
   "execution_count": 27,
   "metadata": {},
   "outputs": [
    {
     "name": "stdout",
     "output_type": "stream",
     "text": [
      "(лежала-лежать-VERB-ROOT-Aspect=Imp|Gender=Fem|Mood=Ind|Number=Sing|Tense=Past|VerbForm=Fin|Voice=Act(книга-книга-NOUN-nsubj-Animacy=Inan|Case=Nom|Gender=Fem|Number=Sing(Прочитанная-прочитанная-ADJ-amod-Case=Nom|Degree=Pos|Gender=Fem|Number=Sing)(,-,-PUNCT-punct-)(столе-стол-NOUN-obl-Animacy=Inan|Case=Loc|Gender=Masc|Number=Sing(на-на-ADP-case-))))\n"
     ]
    }
   ],
   "source": [
    "russian_text = \"Прочитанная книга, лежала на столе\"\n",
    "\n",
    "document = nlp(russian_text)\n",
    "for sent in document.sents:\n",
    "    tree_string = matcher.linearize_tree(sent)"
   ]
  },
  {
   "cell_type": "code",
   "execution_count": 13,
   "metadata": {},
   "outputs": [
    {
     "name": "stdout",
     "output_type": "stream",
     "text": [
      "(лежала-лежать-VERB-ROOT(книга-книга-NOUN-nsubj(Прочитанная-прочитанная-ADJ-amod)(,-,-PUNCT-punct)(столе-стол-NOUN-obl(на-на-ADP-case))))\n"
     ]
    },
    {
     "data": {
      "text/plain": [
       "(participle_gerund_rus : Прочитанная книга, лежала на столе,)"
      ]
     },
     "execution_count": 13,
     "metadata": {},
     "output_type": "execute_result"
    }
   ],
   "source": [
    "matcher.match_document(document)"
   ]
  },
  {
   "cell_type": "code",
   "execution_count": 28,
   "metadata": {},
   "outputs": [
    {
     "name": "stdout",
     "output_type": "stream",
     "text": [
      "(лежала-лежать-VERB-ROOT-Aspect=Imp|Gender=Fem|Mood=Ind|Number=Sing|Tense=Past|VerbForm=Fin|Voice=Act(книга-книга-NOUN-nsubj-Animacy=Inan|Case=Nom|Gender=Fem|Number=Sing(Прочитанная-прочитанная-ADJ-amod-Case=Nom|Degree=Pos|Gender=Fem|Number=Sing)(,-,-PUNCT-punct-)(столе-стол-NOUN-obl-Animacy=Inan|Case=Loc|Gender=Masc|Number=Sing(на-на-ADP-case-))))\n",
      "participle_gerund_rus : Прочитанная книга, лежала на столе\n"
     ]
    }
   ],
   "source": [
    "matches = matcher.match_document(document)\n",
    "for match in matches:\n",
    "    print(match)"
   ]
  },
  {
   "cell_type": "code",
   "execution_count": 29,
   "metadata": {},
   "outputs": [
    {
     "name": "stdout",
     "output_type": "stream",
     "text": [
      "(интересует-интересовать-VERB-ROOT-Aspect=Imp|Mood=Ind|Number=Sing|Person=Third|Tense=Pres|VerbForm=Fin|Voice=Act(Меня-меня-PRON-obj-Case=Acc|Number=Sing|Person=First)(музыка-музыка-NOUN-nsubj-Animacy=Inan|Case=Nom|Gender=Fem|Number=Sing)(.-.-PUNCT-punct-))\n"
     ]
    }
   ],
   "source": [
    "russian_text = \"Меня интересует музыка.\"\n",
    "\n",
    "document = nlp(russian_text)\n",
    "for sent in document.sents:\n",
    "    tree_string = matcher.linearize_tree(sent)"
   ]
  },
  {
   "cell_type": "code",
   "execution_count": 481,
   "metadata": {},
   "outputs": [
    {
     "data": {
      "text/plain": [
       "'(есть-быть-VERB-ROOT(меня-меня-PRON-obl(У-у-ADP-case)(подруга-подруга-NOUN-nsubj(живущая-жить-VERB-acl(,-,-PUNCT-punct)(Мексике-мексика-PROPN-obl(в-в-ADP-case)(.-.-PUNCT-punct))))))'"
      ]
     },
     "execution_count": 481,
     "metadata": {},
     "output_type": "execute_result"
    }
   ],
   "source": [
    "linearize_tree(sent)"
   ]
  },
  {
   "cell_type": "code",
   "execution_count": 482,
   "metadata": {},
   "outputs": [
    {
     "name": "stdout",
     "output_type": "stream",
     "text": [
      "participle_gerund_rus : У меня есть подруга, живущая в Мексике.\n"
     ]
    }
   ],
   "source": [
    "matches = matcher.match_document(document)\n",
    "for match in matches:\n",
    "    print(match)"
   ]
  },
  {
   "cell_type": "code",
   "execution_count": 518,
   "metadata": {},
   "outputs": [],
   "source": [
    "russian_text = \"Зима.\"\n",
    "\n",
    "document = nlp(russian_text)\n",
    "for sent in document.sents:\n",
    "    tree_string = linearize_tree(sent)"
   ]
  },
  {
   "cell_type": "code",
   "execution_count": 519,
   "metadata": {},
   "outputs": [
    {
     "data": {
      "text/plain": [
       "'(Зима-зима-NOUN-ROOT(.-.-PUNCT-punct))'"
      ]
     },
     "execution_count": 519,
     "metadata": {},
     "output_type": "execute_result"
    }
   ],
   "source": [
    "linearize_tree(sent)"
   ]
  },
  {
   "cell_type": "code",
   "execution_count": 520,
   "metadata": {},
   "outputs": [
    {
     "name": "stdout",
     "output_type": "stream",
     "text": [
      "one_word_sent_rus : Зима.\n"
     ]
    }
   ],
   "source": [
    "matches = matcher.match_document(document)\n",
    "for match in matches:\n",
    "    print(match)"
   ]
  },
  {
   "cell_type": "code",
   "execution_count": null,
   "metadata": {},
   "outputs": [],
   "source": []
  },
  {
   "cell_type": "code",
   "execution_count": null,
   "metadata": {},
   "outputs": [],
   "source": []
  },
  {
   "cell_type": "code",
   "execution_count": 508,
   "metadata": {},
   "outputs": [],
   "source": [
    "matcher.add_patterns(\n",
    "    {\n",
    "        \"passive_rus\" : r\"\\([^-]*-[^-]*-(NOUN[^-]*|PRON)-nsubj:pass.*\\)\",\n",
    "        \"parataxis_rus\": r\"\\([^-]*-[^-]*-[^-]*-parataxis.*\\)\",\n",
    "        \"participle_gerund_rus\": r\"\\([^-]*-[^-]*-(VERB-acl(?!:relcl)|ADJ-amod|VERB-advcl).*?\\)\",\n",
    "        \"conj_rus\": r\"\\([^()]*-[^-]*-[^-]*-conj[^()]*\\)\",\n",
    "        \"nested_structure_rus\": r\"\\([^-]*-[^-]*-(VERB-acl:relcl).*?\\)\",\n",
    "        \"one_word_sent_rus\": r\"\\([^-]*-[^-]*-(NOUN|VERB)-ROOT\\(.*?-PUNCT-punct\\)\\)\"\n",
    "    }\n",
    ")"
   ]
  },
  {
   "cell_type": "code",
   "execution_count": 517,
   "metadata": {},
   "outputs": [
    {
     "name": "stdout",
     "output_type": "stream",
     "text": [
      "it-cleft : \\([^-]*-be-[^-]*-[^-]*.*\\([iI]t-it-PRP-nsubj\\).*\\([^-]*-[^-]*-NN[^-]*-attr.*\\([^-]*-[^-]*-VB[^-]*-(relcl|advcl)\n",
      "\n",
      "pseudo-cleft : \\([^-]*-be-[^-]*-[^-]*.*\\([^-]*-[^-]*-(WP|WRB)-(dobj|advmod)\n",
      "\n",
      "all-cleft : (\\([^-]*-be-[^-]*-[^-]*.*\\([^-]*-all-(P)?DT)|(\\([^-]*-all-(P)?DT-[^-]*.*\\([^-]*-be-[^-]*)\n",
      "\n",
      "there-cleft : \\([^-]*-be-[^-]*-[^-]*.*\\([^-]*-there-EX-expl.*\\([^-]*-[^-]*-[^-]*-attr.*\\([^-]*-[^-]*-[^-]*-(relcl|acl)\n",
      "\n",
      "if-because-cleft : \\([^-]*-be-[^-]*-[^-]*.*\\([^-]*-[^-]*-[^-]*-advcl\\([^-*]*-if-IN-mark\n",
      "\n",
      "passive : \\([^-]*-[^-]*-(NN[^-]*|PRP|WDT)-nsubjpass.*\\([^-]*-be-[^-]*-auxpass\n",
      "\n",
      "subj-relcl : \\([^-]*-[^-]*-[^-]*-relcl.*\\([^-]*-[^-]*-(WP|WDT)-nsubj\n",
      "\n",
      "obj-relcl : \\([^-]*-[^-]*-NN[^-]*-(nsubj|attr).*\\([^-]*-[^-]*-[^-]*-(relcl|ccomp).*\\([^-]*-[^-]*-(WP|WDT|IN)-(pobj|dobj)\n",
      "\n",
      "tag-question : \\([^-]*-(do|be|could|can|have)-[^-]*-ROOT.*\\(\\?-\\?-\\.-punct\n",
      "\n",
      "coordinate-clause : \\([^-]*-[^-]*-CC-cc\\).*\\([^-]*-[^-]*-(VB[^-]*|JJ)-conj.*\\([^-]*-[^-]*-[^-]*-nsubj\n",
      "\n",
      "passive_rus : \\([^-]*-[^-]*-(NOUN[^-]*|PRON)-nsubj:pass.*\\)\n",
      "\n",
      "parataxis_rus : \\([^-]*-[^-]*-[^-]*-parataxis.*\\)\n",
      "\n",
      "conj_rus : \\([^()]*-[^-]*-[^-]*-conj[^()]*\\)\n",
      "\n",
      "participle_gerund_rus : \\([^-]*-[^-]*-(VERB-acl(?!:relcl)|ADJ-amod|VERB-advcl).*?\\)\n",
      "\n",
      "nested_structure_rus : \\([^-]*-[^-]*-(VERB-acl:relcl).*?\\)\n",
      "\n",
      "one_word_sent_rus : \\([^-]*-[^-]*-(NOUN|VERB)-ROOT\\(.*?-PUNCT-punct\\)\\)\n",
      "\n"
     ]
    }
   ],
   "source": [
    "matcher.print_patterns() "
   ]
  },
  {
   "cell_type": "code",
   "execution_count": 516,
   "metadata": {},
   "outputs": [],
   "source": [
    "matcher.remove_patterns([\n",
    "    \"one_noun_sent_rus\"\n",
    "#    \"participle_gerund_rus\"\n",
    "])"
   ]
  },
  {
   "cell_type": "code",
   "execution_count": 64,
   "metadata": {},
   "outputs": [],
   "source": []
  },
  {
   "cell_type": "code",
   "execution_count": null,
   "metadata": {},
   "outputs": [],
   "source": []
  },
  {
   "cell_type": "code",
   "execution_count": null,
   "metadata": {},
   "outputs": [],
   "source": [
    "#\\([^-]*-[^-]*-(NOUN[^-]*|PRON)-nsubj:pass.*\\([^-]*-будет|будут|была|был|были-[^-]*-aux:pass"
   ]
  },
  {
   "cell_type": "code",
   "execution_count": null,
   "metadata": {},
   "outputs": [],
   "source": []
  },
  {
   "cell_type": "code",
   "execution_count": 44,
   "metadata": {},
   "outputs": [
    {
     "name": "stdout",
     "output_type": "stream",
     "text": [
      "Collecting en-core-web-lg==3.4.1\n",
      "  Downloading https://github.com/explosion/spacy-models/releases/download/en_core_web_lg-3.4.1/en_core_web_lg-3.4.1-py3-none-any.whl (587.7 MB)\n",
      "\u001b[2K     \u001b[90m━━━━━━━━━━━━━━━━━━━━━━━━━━━━━━━━━━━━━━\u001b[0m \u001b[32m587.7/587.7 MB\u001b[0m \u001b[31m66.5 MB/s\u001b[0m eta \u001b[36m0:00:00\u001b[0m00:01\u001b[0m00:01\u001b[0m\n",
      "\u001b[?25hRequirement already satisfied: spacy<3.5.0,>=3.4.0 in /Users/AlyaMac/opt/anaconda3/lib/python3.8/site-packages (from en-core-web-lg==3.4.1) (3.4.4)\n",
      "Requirement already satisfied: spacy-legacy<3.1.0,>=3.0.10 in /Users/AlyaMac/opt/anaconda3/lib/python3.8/site-packages (from spacy<3.5.0,>=3.4.0->en-core-web-lg==3.4.1) (3.0.12)\n",
      "Requirement already satisfied: spacy-loggers<2.0.0,>=1.0.0 in /Users/AlyaMac/opt/anaconda3/lib/python3.8/site-packages (from spacy<3.5.0,>=3.4.0->en-core-web-lg==3.4.1) (1.0.5)\n",
      "Requirement already satisfied: murmurhash<1.1.0,>=0.28.0 in /Users/AlyaMac/opt/anaconda3/lib/python3.8/site-packages (from spacy<3.5.0,>=3.4.0->en-core-web-lg==3.4.1) (1.0.10)\n",
      "Requirement already satisfied: cymem<2.1.0,>=2.0.2 in /Users/AlyaMac/opt/anaconda3/lib/python3.8/site-packages (from spacy<3.5.0,>=3.4.0->en-core-web-lg==3.4.1) (2.0.8)\n",
      "Requirement already satisfied: preshed<3.1.0,>=3.0.2 in /Users/AlyaMac/opt/anaconda3/lib/python3.8/site-packages (from spacy<3.5.0,>=3.4.0->en-core-web-lg==3.4.1) (3.0.9)\n",
      "Requirement already satisfied: thinc<8.2.0,>=8.1.0 in /Users/AlyaMac/opt/anaconda3/lib/python3.8/site-packages (from spacy<3.5.0,>=3.4.0->en-core-web-lg==3.4.1) (8.1.12)\n",
      "Requirement already satisfied: wasabi<1.1.0,>=0.9.1 in /Users/AlyaMac/opt/anaconda3/lib/python3.8/site-packages (from spacy<3.5.0,>=3.4.0->en-core-web-lg==3.4.1) (0.10.1)\n",
      "Requirement already satisfied: srsly<3.0.0,>=2.4.3 in /Users/AlyaMac/opt/anaconda3/lib/python3.8/site-packages (from spacy<3.5.0,>=3.4.0->en-core-web-lg==3.4.1) (2.4.8)\n",
      "Requirement already satisfied: catalogue<2.1.0,>=2.0.6 in /Users/AlyaMac/opt/anaconda3/lib/python3.8/site-packages (from spacy<3.5.0,>=3.4.0->en-core-web-lg==3.4.1) (2.0.10)\n",
      "Requirement already satisfied: typer<0.8.0,>=0.3.0 in /Users/AlyaMac/opt/anaconda3/lib/python3.8/site-packages (from spacy<3.5.0,>=3.4.0->en-core-web-lg==3.4.1) (0.7.0)\n",
      "Requirement already satisfied: pathy>=0.3.5 in /Users/AlyaMac/opt/anaconda3/lib/python3.8/site-packages (from spacy<3.5.0,>=3.4.0->en-core-web-lg==3.4.1) (0.11.0)\n",
      "Requirement already satisfied: smart-open<7.0.0,>=5.2.1 in /Users/AlyaMac/opt/anaconda3/lib/python3.8/site-packages (from spacy<3.5.0,>=3.4.0->en-core-web-lg==3.4.1) (5.2.1)\n",
      "Requirement already satisfied: tqdm<5.0.0,>=4.38.0 in /Users/AlyaMac/opt/anaconda3/lib/python3.8/site-packages (from spacy<3.5.0,>=3.4.0->en-core-web-lg==3.4.1) (4.59.0)\n",
      "Requirement already satisfied: numpy>=1.15.0 in /Users/AlyaMac/opt/anaconda3/lib/python3.8/site-packages (from spacy<3.5.0,>=3.4.0->en-core-web-lg==3.4.1) (1.23.0)\n",
      "Requirement already satisfied: requests<3.0.0,>=2.13.0 in /Users/AlyaMac/opt/anaconda3/lib/python3.8/site-packages (from spacy<3.5.0,>=3.4.0->en-core-web-lg==3.4.1) (2.25.1)\n",
      "Requirement already satisfied: pydantic!=1.8,!=1.8.1,<1.11.0,>=1.7.4 in /Users/AlyaMac/opt/anaconda3/lib/python3.8/site-packages (from spacy<3.5.0,>=3.4.0->en-core-web-lg==3.4.1) (1.10.18)\n",
      "Requirement already satisfied: jinja2 in /Users/AlyaMac/opt/anaconda3/lib/python3.8/site-packages (from spacy<3.5.0,>=3.4.0->en-core-web-lg==3.4.1) (2.11.3)\n",
      "Requirement already satisfied: setuptools in /Users/AlyaMac/opt/anaconda3/lib/python3.8/site-packages (from spacy<3.5.0,>=3.4.0->en-core-web-lg==3.4.1) (75.3.0)\n",
      "Requirement already satisfied: packaging>=20.0 in /Users/AlyaMac/opt/anaconda3/lib/python3.8/site-packages (from spacy<3.5.0,>=3.4.0->en-core-web-lg==3.4.1) (20.9)\n",
      "Requirement already satisfied: langcodes<4.0.0,>=3.2.0 in /Users/AlyaMac/opt/anaconda3/lib/python3.8/site-packages (from spacy<3.5.0,>=3.4.0->en-core-web-lg==3.4.1) (3.4.1)\n",
      "Requirement already satisfied: language-data>=1.2 in /Users/AlyaMac/opt/anaconda3/lib/python3.8/site-packages (from langcodes<4.0.0,>=3.2.0->spacy<3.5.0,>=3.4.0->en-core-web-lg==3.4.1) (1.2.0)\n",
      "Requirement already satisfied: pyparsing>=2.0.2 in /Users/AlyaMac/opt/anaconda3/lib/python3.8/site-packages (from packaging>=20.0->spacy<3.5.0,>=3.4.0->en-core-web-lg==3.4.1) (2.4.7)\n",
      "Requirement already satisfied: pathlib-abc==0.1.1 in /Users/AlyaMac/opt/anaconda3/lib/python3.8/site-packages (from pathy>=0.3.5->spacy<3.5.0,>=3.4.0->en-core-web-lg==3.4.1) (0.1.1)\n",
      "Requirement already satisfied: typing-extensions>=4.2.0 in /Users/AlyaMac/opt/anaconda3/lib/python3.8/site-packages (from pydantic!=1.8,!=1.8.1,<1.11.0,>=1.7.4->spacy<3.5.0,>=3.4.0->en-core-web-lg==3.4.1) (4.5.0)\n",
      "Requirement already satisfied: chardet<5,>=3.0.2 in /Users/AlyaMac/opt/anaconda3/lib/python3.8/site-packages (from requests<3.0.0,>=2.13.0->spacy<3.5.0,>=3.4.0->en-core-web-lg==3.4.1) (4.0.0)\n",
      "Requirement already satisfied: idna<3,>=2.5 in /Users/AlyaMac/opt/anaconda3/lib/python3.8/site-packages (from requests<3.0.0,>=2.13.0->spacy<3.5.0,>=3.4.0->en-core-web-lg==3.4.1) (2.10)\n",
      "Requirement already satisfied: urllib3<1.27,>=1.21.1 in /Users/AlyaMac/opt/anaconda3/lib/python3.8/site-packages (from requests<3.0.0,>=2.13.0->spacy<3.5.0,>=3.4.0->en-core-web-lg==3.4.1) (1.26.4)\n",
      "Requirement already satisfied: certifi>=2017.4.17 in /Users/AlyaMac/opt/anaconda3/lib/python3.8/site-packages (from requests<3.0.0,>=2.13.0->spacy<3.5.0,>=3.4.0->en-core-web-lg==3.4.1) (2020.12.5)\n",
      "Requirement already satisfied: blis<0.8.0,>=0.7.8 in /Users/AlyaMac/opt/anaconda3/lib/python3.8/site-packages (from thinc<8.2.0,>=8.1.0->spacy<3.5.0,>=3.4.0->en-core-web-lg==3.4.1) (0.7.11)\n",
      "Requirement already satisfied: confection<1.0.0,>=0.0.1 in /Users/AlyaMac/opt/anaconda3/lib/python3.8/site-packages (from thinc<8.2.0,>=8.1.0->spacy<3.5.0,>=3.4.0->en-core-web-lg==3.4.1) (0.1.5)\n",
      "Requirement already satisfied: click<9.0.0,>=7.1.1 in /Users/AlyaMac/opt/anaconda3/lib/python3.8/site-packages (from typer<0.8.0,>=0.3.0->spacy<3.5.0,>=3.4.0->en-core-web-lg==3.4.1) (7.1.2)\n",
      "Requirement already satisfied: MarkupSafe>=0.23 in /Users/AlyaMac/opt/anaconda3/lib/python3.8/site-packages (from jinja2->spacy<3.5.0,>=3.4.0->en-core-web-lg==3.4.1) (1.1.1)\n",
      "Requirement already satisfied: marisa-trie>=0.7.7 in /Users/AlyaMac/opt/anaconda3/lib/python3.8/site-packages (from language-data>=1.2->langcodes<4.0.0,>=3.2.0->spacy<3.5.0,>=3.4.0->en-core-web-lg==3.4.1) (1.2.1)\n",
      "Installing collected packages: en-core-web-lg\n",
      "Successfully installed en-core-web-lg-3.4.1\n",
      "\u001b[38;5;2m✔ Download and installation successful\u001b[0m\n",
      "You can now load the package via spacy.load('en_core_web_lg')\n"
     ]
    }
   ],
   "source": [
    "!python -m spacy download en_core_web_lg"
   ]
  },
  {
   "cell_type": "code",
   "execution_count": 26,
   "metadata": {},
   "outputs": [],
   "source": [
    "nlp= spacy.load(\"en_core_web_lg\")"
   ]
  },
  {
   "cell_type": "code",
   "execution_count": 48,
   "metadata": {},
   "outputs": [
    {
     "name": "stdout",
     "output_type": "stream",
     "text": [
      "(is-be-VBZ-ROOT-(cat-cat-NN-nsubj-(my-my-PRP$-poss-)(smaller-small-JJR-acomp-(than-than-IN-prep-(dog-dog-NN-pobj-(my-my-PRP$-poss-))))))\n"
     ]
    }
   ],
   "source": [
    "text = \"my cat is smaller than my dog\"\n",
    "\n",
    "document = nlp(text)\n",
    "for sent in document.sents:\n",
    "    tree_string = matcher.linearize_tree(sent)"
   ]
  },
  {
   "cell_type": "code",
   "execution_count": 25,
   "metadata": {},
   "outputs": [
    {
     "name": "stdout",
     "output_type": "stream",
     "text": [
      "Token: Bill, Dep: nsubj\n",
      "Token: is, Dep: ROOT\n",
      "Token: a, Dep: det\n",
      "Token: teacher, Dep: attr\n",
      "This spaCy model does not support the 'cop' dependency label.\n"
     ]
    }
   ],
   "source": [
    "supports_cop = False\n",
    "for token in document:\n",
    "    print(f\"Token: {token.text}, Dep: {token.dep_}\")\n",
    "    if token.dep_ == \"cop\":\n",
    "        supports_cop = True\n",
    "\n",
    "# Output result\n",
    "if supports_cop:\n",
    "    print(\"This spaCy model supports the 'cop' dependency label.\")\n",
    "else:\n",
    "    print(\"This spaCy model does not support the 'cop' dependency label.\")"
   ]
  },
  {
   "cell_type": "code",
   "execution_count": 101,
   "metadata": {},
   "outputs": [
    {
     "data": {
      "text/plain": [
       "'(stolen-steal-VBN-ROOT(car-car-NN-nsubjpass)(was-be-VBD-auxpass)(night-night-NN-npadvmod(last-last-JJ-amod)))'"
      ]
     },
     "execution_count": 101,
     "metadata": {},
     "output_type": "execute_result"
    }
   ],
   "source": [
    "linearize_tree(sent)"
   ]
  },
  {
   "cell_type": "code",
   "execution_count": 102,
   "metadata": {},
   "outputs": [
    {
     "name": "stdout",
     "output_type": "stream",
     "text": [
      "passive : car was stolen last night\n"
     ]
    }
   ],
   "source": [
    "matches = matcher.match_document(document)\n",
    "for match in matches:\n",
    "    print(match)"
   ]
  },
  {
   "cell_type": "code",
   "execution_count": 104,
   "metadata": {},
   "outputs": [
    {
     "name": "stdout",
     "output_type": "stream",
     "text": [
      "()\n",
      "()\n",
      "()\n"
     ]
    }
   ],
   "source": [
    "texts = [\"How she paid for her food was with her credit card. When did Sarah say she was coming over?\", \n",
    "         \"English is spoken all over the world. When it was sunny, I went outside, but it started raining.\",\n",
    "         \"She is the author that I have interviewed. They might have been invited to the party.\"]\n",
    "docs = nlp.pipe(texts)\n",
    "matches = matcher.match_documents(docs)\n",
    "for match in matches:\n",
    "    print(match)"
   ]
  },
  {
   "cell_type": "code",
   "execution_count": 105,
   "metadata": {},
   "outputs": [
    {
     "name": "stdout",
     "output_type": "stream",
     "text": [
      "it-cleft : \\([^-]*-be-[^-]*-[^-]*.*\\([iI]t-it-PRP-nsubj\\).*\\([^-]*-[^-]*-NN[^-]*-attr.*\\([^-]*-[^-]*-VB[^-]*-(relcl|advcl)\n",
      "\n",
      "pseudo-cleft : \\([^-]*-be-[^-]*-[^-]*.*\\([^-]*-[^-]*-(WP|WRB)-(dobj|advmod)\n",
      "\n",
      "all-cleft : (\\([^-]*-be-[^-]*-[^-]*.*\\([^-]*-all-(P)?DT)|(\\([^-]*-all-(P)?DT-[^-]*.*\\([^-]*-be-[^-]*)\n",
      "\n",
      "there-cleft : \\([^-]*-be-[^-]*-[^-]*.*\\([^-]*-there-EX-expl.*\\([^-]*-[^-]*-[^-]*-attr.*\\([^-]*-[^-]*-[^-]*-(relcl|acl)\n",
      "\n",
      "if-because-cleft : \\([^-]*-be-[^-]*-[^-]*.*\\([^-]*-[^-]*-[^-]*-advcl\\([^-*]*-if-IN-mark\n",
      "\n",
      "passive : \\([^-]*-[^-]*-(NN[^-]*|PRP|WDT)-nsubjpass.*\\([^-]*-be-[^-]*-auxpass\n",
      "\n",
      "subj-relcl : \\([^-]*-[^-]*-[^-]*-relcl.*\\([^-]*-[^-]*-(WP|WDT)-nsubj\n",
      "\n",
      "obj-relcl : \\([^-]*-[^-]*-NN[^-]*-(nsubj|attr).*\\([^-]*-[^-]*-[^-]*-(relcl|ccomp).*\\([^-]*-[^-]*-(WP|WDT|IN)-(pobj|dobj)\n",
      "\n",
      "tag-question : \\([^-]*-(do|be|could|can|have)-[^-]*-ROOT.*\\(\\?-\\?-\\.-punct\n",
      "\n",
      "coordinate-clause : \\([^-]*-[^-]*-CC-cc\\).*\\([^-]*-[^-]*-(VB[^-]*|JJ)-conj.*\\([^-]*-[^-]*-[^-]*-nsubj\n",
      "\n"
     ]
    }
   ],
   "source": [
    "matcher.print_patterns() "
   ]
  },
  {
   "cell_type": "code",
   "execution_count": null,
   "metadata": {},
   "outputs": [],
   "source": [
    "matcher.add_patterns(\n",
    "    {\n",
    "        \"pattern_name_1\" : r\"regex_1\",\n",
    "        \"pattern_name_2\" : r\"regex_2\"\n",
    "    }\n",
    ")"
   ]
  },
  {
   "cell_type": "code",
   "execution_count": 62,
   "metadata": {},
   "outputs": [],
   "source": [
    "#It was Jane’s car that got stolen last night.\n",
    "\n",
    "#(was-be-VBD-ROOT(It-it-PRP-nsubj)(car-car-NN-attr(Jane-Jane-NNP-poss(’s-’s-POS-case)(stolen-steal-VBN-relcl\n",
    "\n",
    "#\\([^-]*-[^-]*-(NN[^-]*|PRP|WDT)-nsubjpass.*\\([^-]*-be-[^-]*-auxpass"
   ]
  },
  {
   "cell_type": "code",
   "execution_count": 74,
   "metadata": {},
   "outputs": [],
   "source": [
    "text = \"Yesterday the book was bought.\"\n",
    "# russian_text = \"Это Джон купил масло.\"\n",
    "#russian_text = \"Вчера книга была куплена и прочитана.\"\n",
    "\n",
    "#from spacy import displacy\n",
    "\n",
    "# Visualize the dependency parse\n",
    "#options = {\"compact\": True, \"bg\": \"#ffffff\",\n",
    "          # \"color\": \"#000000\", \"font\": \"Source Sans Pro\"}\n",
    "#displacy.render(nlp(russian_text), style=\"dep\", options=options)\n",
    "\n",
    "document = nlp(text)\n",
    "for sent in document.sents:\n",
    "    tree_string = linearize_tree(sent)"
   ]
  },
  {
   "cell_type": "code",
   "execution_count": 75,
   "metadata": {},
   "outputs": [
    {
     "data": {
      "text/plain": [
       "'(Yesterday-yesterday-X-ROOT(the-the-X-flat:foreign)(book-book-X-flat:foreign)(was-was-X-flat:foreign)(bought-bought-X-flat:foreign)(.-.-PUNCT-punct))'"
      ]
     },
     "execution_count": 75,
     "metadata": {},
     "output_type": "execute_result"
    }
   ],
   "source": [
    "linearize_tree(sent)"
   ]
  },
  {
   "cell_type": "code",
   "execution_count": null,
   "metadata": {},
   "outputs": [],
   "source": []
  }
 ],
 "metadata": {
  "kernelspec": {
   "display_name": "gram2vec",
   "language": "python",
   "name": "python3"
  },
  "language_info": {
   "codemirror_mode": {
    "name": "ipython",
    "version": 3
   },
   "file_extension": ".py",
   "mimetype": "text/x-python",
   "name": "python",
   "nbconvert_exporter": "python",
   "pygments_lexer": "ipython3",
   "version": "3.11.11"
  }
 },
 "nbformat": 4,
 "nbformat_minor": 2
}
