{
 "cells": [
  {
   "cell_type": "code",
   "execution_count": 15,
   "id": "bad6dd50-c064-4dad-ba54-647e8b7c573e",
   "metadata": {},
   "outputs": [
    {
     "name": "stdout",
     "output_type": "stream",
     "text": [
      "(was(It)(car(Jane(’s)(stolen(that)(got)(night(last))))))\n"
     ]
    }
   ],
   "source": [
    "import pandas as pd\n",
    "import vectorizer\n",
    "from load_spacy import nlp, Doc\n",
    "from collections import Counter\n",
    "\n",
    "\n",
    "def get_num_non_terminals(sentence) -> int:\n",
    "    return sum([1 for token in sentence if list(token.children)])\n",
    "\n",
    "def add_ending_parenthesis(sentence, result:str) -> str:\n",
    "    return f\"{result}{ ')' * get_num_non_terminals(sentence)}\"\n",
    "\n",
    "\n",
    "def tree_to_string(sentence):\n",
    "    stack = [sentence.root]\n",
    "    result = \"\"\n",
    "    \n",
    "    while stack:\n",
    "        token = stack.pop()\n",
    "        result += \"(\" + token.text\n",
    "        \n",
    "        for child in reversed(list(token.children)):\n",
    "            stack.append(child)\n",
    "        \n",
    "        if not list(token.children):\n",
    "            result += \")\"\n",
    "    return add_ending_parenthesis(sentence, result)\n",
    "\n",
    "\n",
    "doc = nlp(\"It was Jane’s car that got stolen last night\")\n",
    "\n",
    "for sent in doc.sents:\n",
    "    print(tree_to_string(sent))"
   ]
  },
  {
   "cell_type": "code",
   "execution_count": 40,
   "id": "cfd2037d",
   "metadata": {},
   "outputs": [],
   "source": [
    "from vectorizer import load_from_txt\n",
    "\n",
    "\n",
    "closed_class = load_from_txt(\"vocab/TEMP_CLOSED_CLASS.txt\")\n",
    "pos_tags = (\"ADJ\", \"ADV\", \"INTJ\", \"NOUN\", \"PROPN\", \"VERB\")"
   ]
  },
  {
   "cell_type": "code",
   "execution_count": 41,
   "id": "c6ede5fb",
   "metadata": {},
   "outputs": [],
   "source": [
    "def create_combinations(t1, t2):\n",
    "    combinations = []\n",
    "    \n",
    "    for item1 in t1:\n",
    "        for item2 in t2:\n",
    "            combinations.append(f\"{item1} {item2}\")\n",
    "            combinations.append(f\"{item2} {item1}\")\n",
    "    \n",
    "    return set(combinations)\n",
    "\n",
    "\n",
    "mixed_bigrams = create_combinations(closed_class, pos_tags)\n",
    "\n",
    "with open(\"vocab/mixed_bigrams.txt\", \"w\") as fout:\n",
    "    for bigram in mixed_bigrams:\n",
    "        fout.write(f\"{bigram}\\n\")"
   ]
  }
 ],
 "metadata": {
  "kernelspec": {
   "display_name": "Python 3 (ipykernel)",
   "language": "python",
   "name": "python3"
  },
  "language_info": {
   "codemirror_mode": {
    "name": "ipython",
    "version": 3
   },
   "file_extension": ".py",
   "mimetype": "text/x-python",
   "name": "python",
   "nbconvert_exporter": "python",
   "pygments_lexer": "ipython3",
   "version": "3.11.3"
  }
 },
 "nbformat": 4,
 "nbformat_minor": 5
}
