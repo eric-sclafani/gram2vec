{
 "cells": [
  {
   "cell_type": "code",
   "execution_count": 1,
   "id": "bad6dd50-c064-4dad-ba54-647e8b7c573e",
   "metadata": {},
   "outputs": [
    {
     "name": "stdout",
     "output_type": "stream",
     "text": [
      "Function '_process_documents' executed in 16.409591 seconds.\n",
      "Function 'from_jsonlines' executed in 96.843379 seconds.\n"
     ]
    }
   ],
   "source": [
    "import pandas as pd\n",
    "import vectorizer\n",
    "from spacy import displacy\n",
    "from collections import Counter\n",
    "from load_spacy import nlp\n",
    "\n",
    "pan_doc_vectors = vectorizer.from_jsonlines(\"data/pan22/preprocessed/pan22_preprocessed.jsonl\")"
   ]
  },
  {
   "cell_type": "code",
   "execution_count": 1,
   "id": "b37fc19a",
   "metadata": {},
   "outputs": [],
   "source": [
    "import polars as pl"
   ]
  },
  {
   "cell_type": "code",
   "execution_count": 3,
   "id": "e6406beb",
   "metadata": {},
   "outputs": [],
   "source": [
    "df = pl.read_ndjson(\"data/pan22/preprocessed/pan22_preprocessed.jsonl\")"
   ]
  },
  {
   "cell_type": "code",
   "execution_count": 4,
   "id": "cc89b2f3",
   "metadata": {},
   "outputs": [
    {
     "data": {
      "text/html": [
       "<div><style>\n",
       ".dataframe > thead > tr > th,\n",
       ".dataframe > tbody > tr > td {\n",
       "  text-align: right;\n",
       "}\n",
       "</style>\n",
       "<small>shape: (1_047, 11)</small><table border=\"1\" class=\"dataframe\"><thead><tr><th>authorIDs</th><th>documentID</th><th>fullText</th><th>discourse_type</th><th>dateCollected</th><th>publiclyAvailable</th><th>source</th><th>deidentified</th><th>languages</th><th>lengthWords</th><th>isForeground</th></tr><tr><td>str</td><td>str</td><td>str</td><td>str</td><td>str</td><td>bool</td><td>str</td><td>bool</td><td>list[str]</td><td>i64</td><td>bool</td></tr></thead><tbody><tr><td>&quot;en_110&quot;</td><td>&quot;ed5ec66c-d70f-…</td><td>&quot;Barrett, Thank…</td><td>&quot;email&quot;</td><td>&quot;N/A&quot;</td><td>false</td><td>&quot;university&quot;</td><td>false</td><td>[&quot;en&quot;]</td><td>635</td><td>false</td></tr><tr><td>&quot;en_112&quot;</td><td>&quot;ed73dd7c-d70f-…</td><td>&quot;ill have a che…</td><td>&quot;text_message&quot;</td><td>&quot;N/A&quot;</td><td>false</td><td>&quot;university&quot;</td><td>false</td><td>[&quot;en&quot;]</td><td>115</td><td>false</td></tr><tr><td>&quot;en_112&quot;</td><td>&quot;ed747bba-d70f-…</td><td>&quot;Dear Ania, I a…</td><td>&quot;email&quot;</td><td>&quot;N/A&quot;</td><td>false</td><td>&quot;university&quot;</td><td>false</td><td>[&quot;en&quot;]</td><td>368</td><td>false</td></tr><tr><td>&quot;en_76&quot;</td><td>&quot;ed87d5ca-d70f-…</td><td>&quot;before dinner …</td><td>&quot;text_message&quot;</td><td>&quot;N/A&quot;</td><td>false</td><td>&quot;university&quot;</td><td>false</td><td>[&quot;en&quot;]</td><td>126</td><td>false</td></tr><tr><td>&quot;en_62&quot;</td><td>&quot;ed8fa796-d70f-…</td><td>&quot;Over the last …</td><td>&quot;essay&quot;</td><td>&quot;N/A&quot;</td><td>false</td><td>&quot;university&quot;</td><td>false</td><td>[&quot;en&quot;]</td><td>3013</td><td>false</td></tr><tr><td>&quot;en_62&quot;</td><td>&quot;ed94486e-d70f-…</td><td>&quot;Catherine, Tha…</td><td>&quot;email&quot;</td><td>&quot;N/A&quot;</td><td>false</td><td>&quot;university&quot;</td><td>false</td><td>[&quot;en&quot;]</td><td>461</td><td>false</td></tr><tr><td>&quot;en_19&quot;</td><td>&quot;edb8add0-d70f-…</td><td>&quot;Thank you for …</td><td>&quot;email&quot;</td><td>&quot;N/A&quot;</td><td>false</td><td>&quot;university&quot;</td><td>false</td><td>[&quot;en&quot;]</td><td>440</td><td>false</td></tr><tr><td>&quot;en_19&quot;</td><td>&quot;edca3c12-d70f-…</td><td>&quot;i right in thi…</td><td>&quot;text_message&quot;</td><td>&quot;N/A&quot;</td><td>false</td><td>&quot;university&quot;</td><td>false</td><td>[&quot;en&quot;]</td><td>110</td><td>false</td></tr><tr><td>&quot;en_54&quot;</td><td>&quot;edcbb65a-d70f-…</td><td>&quot;For the CEO&#x27;s …</td><td>&quot;memo&quot;</td><td>&quot;N/A&quot;</td><td>false</td><td>&quot;university&quot;</td><td>false</td><td>[&quot;en&quot;]</td><td>300</td><td>false</td></tr><tr><td>&quot;en_52&quot;</td><td>&quot;edcbd360-d70f-…</td><td>&quot;er work can yo…</td><td>&quot;text_message&quot;</td><td>&quot;N/A&quot;</td><td>false</td><td>&quot;university&quot;</td><td>false</td><td>[&quot;en&quot;]</td><td>123</td><td>false</td></tr><tr><td>&quot;en_4&quot;</td><td>&quot;edd00ca0-d70f-…</td><td>&quot;Dear Jean-Chri…</td><td>&quot;email&quot;</td><td>&quot;N/A&quot;</td><td>false</td><td>&quot;university&quot;</td><td>false</td><td>[&quot;en&quot;]</td><td>413</td><td>false</td></tr><tr><td>&quot;en_12&quot;</td><td>&quot;ede41c40-d70f-…</td><td>&quot;id it whilst I…</td><td>&quot;text_message&quot;</td><td>&quot;N/A&quot;</td><td>false</td><td>&quot;university&quot;</td><td>false</td><td>[&quot;en&quot;]</td><td>114</td><td>false</td></tr><tr><td>&hellip;</td><td>&hellip;</td><td>&hellip;</td><td>&hellip;</td><td>&hellip;</td><td>&hellip;</td><td>&hellip;</td><td>&hellip;</td><td>&hellip;</td><td>&hellip;</td><td>&hellip;</td></tr><tr><td>&quot;en_108&quot;</td><td>&quot;252e900e-d710-…</td><td>&quot;Hello I’ve att…</td><td>&quot;email&quot;</td><td>&quot;N/A&quot;</td><td>false</td><td>&quot;university&quot;</td><td>false</td><td>[&quot;en&quot;]</td><td>345</td><td>false</td></tr><tr><td>&quot;en_54&quot;</td><td>&quot;254facbc-d710-…</td><td>&quot;Thank you ! Wh…</td><td>&quot;email&quot;</td><td>&quot;N/A&quot;</td><td>false</td><td>&quot;university&quot;</td><td>false</td><td>[&quot;en&quot;]</td><td>465</td><td>false</td></tr><tr><td>&quot;en_34&quot;</td><td>&quot;2577d4ee-d710-…</td><td>&quot;a, I do try ;)…</td><td>&quot;email&quot;</td><td>&quot;N/A&quot;</td><td>false</td><td>&quot;university&quot;</td><td>false</td><td>[&quot;en&quot;]</td><td>429</td><td>false</td></tr><tr><td>&quot;en_19&quot;</td><td>&quot;25843f7c-d710-…</td><td>&quot;i have such a …</td><td>&quot;text_message&quot;</td><td>&quot;N/A&quot;</td><td>false</td><td>&quot;university&quot;</td><td>false</td><td>[&quot;en&quot;]</td><td>114</td><td>false</td></tr><tr><td>&quot;en_78&quot;</td><td>&quot;258ac7d4-d710-…</td><td>&quot;Zippy, I just …</td><td>&quot;email&quot;</td><td>&quot;N/A&quot;</td><td>false</td><td>&quot;university&quot;</td><td>false</td><td>[&quot;en&quot;]</td><td>382</td><td>false</td></tr><tr><td>&quot;en_102&quot;</td><td>&quot;25a88a76-d710-…</td><td>&quot;Thanks and no …</td><td>&quot;text_message&quot;</td><td>&quot;N/A&quot;</td><td>false</td><td>&quot;university&quot;</td><td>false</td><td>[&quot;en&quot;]</td><td>134</td><td>false</td></tr><tr><td>&quot;en_22&quot;</td><td>&quot;25ab3672-d710-…</td><td>&quot;Hope you are w…</td><td>&quot;email&quot;</td><td>&quot;N/A&quot;</td><td>false</td><td>&quot;university&quot;</td><td>false</td><td>[&quot;en&quot;]</td><td>342</td><td>false</td></tr><tr><td>&quot;en_67&quot;</td><td>&quot;25c69944-d710-…</td><td>&quot;�😂😂 Ofcourse G…</td><td>&quot;text_message&quot;</td><td>&quot;N/A&quot;</td><td>false</td><td>&quot;university&quot;</td><td>false</td><td>[&quot;en&quot;]</td><td>117</td><td>false</td></tr><tr><td>&quot;en_114&quot;</td><td>&quot;25cd520c-d710-…</td><td>&quot;Samaria, I was…</td><td>&quot;email&quot;</td><td>&quot;N/A&quot;</td><td>false</td><td>&quot;university&quot;</td><td>false</td><td>[&quot;en&quot;]</td><td>408</td><td>false</td></tr><tr><td>&quot;en_57&quot;</td><td>&quot;25e442e6-d710-…</td><td>&quot;Minni, I’ve go…</td><td>&quot;email&quot;</td><td>&quot;N/A&quot;</td><td>false</td><td>&quot;university&quot;</td><td>false</td><td>[&quot;en&quot;]</td><td>400</td><td>false</td></tr><tr><td>&quot;en_114&quot;</td><td>&quot;25fefcf8-d710-…</td><td>&quot;Fanchon, Thank…</td><td>&quot;email&quot;</td><td>&quot;N/A&quot;</td><td>false</td><td>&quot;university&quot;</td><td>false</td><td>[&quot;en&quot;]</td><td>487</td><td>false</td></tr><tr><td>&quot;en_2&quot;</td><td>&quot;261404f4-d710-…</td><td>&quot;e you loads an…</td><td>&quot;text_message&quot;</td><td>&quot;N/A&quot;</td><td>false</td><td>&quot;university&quot;</td><td>false</td><td>[&quot;en&quot;]</td><td>130</td><td>false</td></tr></tbody></table></div>"
      ],
      "text/plain": [
       "shape: (1_047, 11)\n",
       "┌─────────┬──────────┬───────────┬────────────┬───┬────────────┬──────────┬───────────┬────────────┐\n",
       "│ authorI ┆ document ┆ fullText  ┆ discourse_ ┆ … ┆ deidentifi ┆ language ┆ lengthWor ┆ isForegrou │\n",
       "│ Ds      ┆ ID       ┆ ---       ┆ type       ┆   ┆ ed         ┆ s        ┆ ds        ┆ nd         │\n",
       "│ ---     ┆ ---      ┆ str       ┆ ---        ┆   ┆ ---        ┆ ---      ┆ ---       ┆ ---        │\n",
       "│ str     ┆ str      ┆           ┆ str        ┆   ┆ bool       ┆ list[str ┆ i64       ┆ bool       │\n",
       "│         ┆          ┆           ┆            ┆   ┆            ┆ ]        ┆           ┆            │\n",
       "╞═════════╪══════════╪═══════════╪════════════╪═══╪════════════╪══════════╪═══════════╪════════════╡\n",
       "│ en_110  ┆ ed5ec66c ┆ Barrett,  ┆ email      ┆ … ┆ false      ┆ [\"en\"]   ┆ 635       ┆ false      │\n",
       "│         ┆ -d70f-11 ┆ Thank you ┆            ┆   ┆            ┆          ┆           ┆            │\n",
       "│         ┆ ed-8cc6- ┆ so much,  ┆            ┆   ┆            ┆          ┆           ┆            │\n",
       "│         ┆ 76349838 ┆ thes…     ┆            ┆   ┆            ┆          ┆           ┆            │\n",
       "│         ┆ …        ┆           ┆            ┆   ┆            ┆          ┆           ┆            │\n",
       "│ en_112  ┆ ed73dd7c ┆ ill have  ┆ text_messa ┆ … ┆ false      ┆ [\"en\"]   ┆ 115       ┆ false      │\n",
       "│         ┆ -d70f-11 ┆ a check   ┆ ge         ┆   ┆            ┆          ┆           ┆            │\n",
       "│         ┆ ed-8cc6- ┆ now, I    ┆            ┆   ┆            ┆          ┆           ┆            │\n",
       "│         ┆ 76349838 ┆ assumed … ┆            ┆   ┆            ┆          ┆           ┆            │\n",
       "│         ┆ …        ┆           ┆            ┆   ┆            ┆          ┆           ┆            │\n",
       "│ en_112  ┆ ed747bba ┆ Dear      ┆ email      ┆ … ┆ false      ┆ [\"en\"]   ┆ 368       ┆ false      │\n",
       "│         ┆ -d70f-11 ┆ Ania, I   ┆            ┆   ┆            ┆          ┆           ┆            │\n",
       "│         ┆ ed-8cc6- ┆ am on my  ┆            ┆   ┆            ┆          ┆           ┆            │\n",
       "│         ┆ 76349838 ┆ placement ┆            ┆   ┆            ┆          ┆           ┆            │\n",
       "│         ┆ …        ┆ …         ┆            ┆   ┆            ┆          ┆           ┆            │\n",
       "│ en_76   ┆ ed87d5ca ┆ before    ┆ text_messa ┆ … ┆ false      ┆ [\"en\"]   ┆ 126       ┆ false      │\n",
       "│         ┆ -d70f-11 ┆ dinner    ┆ ge         ┆   ┆            ┆          ┆           ┆            │\n",
       "│         ┆ ed-8cc6- ┆ haha Next ┆            ┆   ┆            ┆          ┆           ┆            │\n",
       "│         ┆ 76349838 ┆ weekend … ┆            ┆   ┆            ┆          ┆           ┆            │\n",
       "│         ┆ …        ┆           ┆            ┆   ┆            ┆          ┆           ┆            │\n",
       "│ …       ┆ …        ┆ …         ┆ …          ┆ … ┆ …          ┆ …        ┆ …         ┆ …          │\n",
       "│ en_114  ┆ 25cd520c ┆ Samaria,  ┆ email      ┆ … ┆ false      ┆ [\"en\"]   ┆ 408       ┆ false      │\n",
       "│         ┆ -d710-11 ┆ I was     ┆            ┆   ┆            ┆          ┆           ┆            │\n",
       "│         ┆ ed-8cc6- ┆ wondering ┆            ┆   ┆            ┆          ┆           ┆            │\n",
       "│         ┆ 76349838 ┆ if I wo…  ┆            ┆   ┆            ┆          ┆           ┆            │\n",
       "│         ┆ …        ┆           ┆            ┆   ┆            ┆          ┆           ┆            │\n",
       "│ en_57   ┆ 25e442e6 ┆ Minni,    ┆ email      ┆ … ┆ false      ┆ [\"en\"]   ┆ 400       ┆ false      │\n",
       "│         ┆ -d710-11 ┆ I’ve got  ┆            ┆   ┆            ┆          ┆           ┆            │\n",
       "│         ┆ ed-8cc6- ┆ my        ┆            ┆   ┆            ┆          ┆           ┆            │\n",
       "│         ┆ 76349838 ┆ results   ┆            ┆   ┆            ┆          ┆           ┆            │\n",
       "│         ┆ …        ┆ for m…    ┆            ┆   ┆            ┆          ┆           ┆            │\n",
       "│ en_114  ┆ 25fefcf8 ┆ Fanchon,  ┆ email      ┆ … ┆ false      ┆ [\"en\"]   ┆ 487       ┆ false      │\n",
       "│         ┆ -d710-11 ┆ Thank you ┆            ┆   ┆            ┆          ┆           ┆            │\n",
       "│         ┆ ed-8cc6- ┆ for your  ┆            ┆   ┆            ┆          ┆           ┆            │\n",
       "│         ┆ 76349838 ┆ repl…     ┆            ┆   ┆            ┆          ┆           ┆            │\n",
       "│         ┆ …        ┆           ┆            ┆   ┆            ┆          ┆           ┆            │\n",
       "│ en_2    ┆ 261404f4 ┆ e you     ┆ text_messa ┆ … ┆ false      ┆ [\"en\"]   ┆ 130       ┆ false      │\n",
       "│         ┆ -d710-11 ┆ loads and ┆ ge         ┆   ┆            ┆          ┆           ┆            │\n",
       "│         ┆ ed-8cc6- ┆ loads and ┆            ┆   ┆            ┆          ┆           ┆            │\n",
       "│         ┆ 76349838 ┆ loads …   ┆            ┆   ┆            ┆          ┆           ┆            │\n",
       "│         ┆ …        ┆           ┆            ┆   ┆            ┆          ┆           ┆            │\n",
       "└─────────┴──────────┴───────────┴────────────┴───┴────────────┴──────────┴───────────┴────────────┘"
      ]
     },
     "execution_count": 4,
     "metadata": {},
     "output_type": "execute_result"
    }
   ],
   "source": []
  },
  {
   "cell_type": "code",
   "execution_count": null,
   "id": "d9dd94bd",
   "metadata": {},
   "outputs": [],
   "source": []
  },
  {
   "cell_type": "code",
   "execution_count": null,
   "id": "f0ea076d",
   "metadata": {},
   "outputs": [],
   "source": []
  },
  {
   "cell_type": "code",
   "execution_count": 2,
   "id": "99a977fb",
   "metadata": {},
   "outputs": [
    {
     "name": "stdout",
     "output_type": "stream",
     "text": [
      "(was-be-VBD-ROOT(It-it-PRP-nsubj)(car-car-NN-attr(Jane-Jane-NNP-poss(’s-’s-POS-case)(stolen-steal-VBN-relcl(that-that-WDT-nsubjpass)(got-got-VBD-auxpass)(night-night-NN-npadvmod(last-last-JJ-amod))))))\n"
     ]
    }
   ],
   "source": [
    "\n",
    "def get_num_non_terminals(sentence) -> int:\n",
    "    return sum([1 for token in sentence if list(token.children)])\n",
    "\n",
    "def add_ending_parenthesis(sentence, result:str) -> str:\n",
    "    return f\"{result}{ ')' * get_num_non_terminals(sentence)}\"\n",
    "\n",
    "\n",
    "def tree_to_string(sentence):\n",
    "    stack = [sentence.root]\n",
    "    result = \"\"\n",
    "    \n",
    "    while stack:\n",
    "        token = stack.pop()\n",
    "        result += f\"({token.text}-{token.lemma_}-{token.tag_}-{token.dep_}\" \n",
    "        \n",
    "        for child in reversed(list(token.children)):\n",
    "            stack.append(child)\n",
    "        \n",
    "        if not list(token.children):\n",
    "            result += \")\"\n",
    "    return add_ending_parenthesis(sentence, result)\n",
    "\n",
    "\n",
    "doc = nlp(\"It was Jane’s car that got stolen last night\")\n",
    "\n",
    "for sent in doc.sents:\n",
    "    print(tree_to_string(sent))"
   ]
  },
  {
   "cell_type": "code",
   "execution_count": null,
   "id": "ae3b87a6",
   "metadata": {},
   "outputs": [],
   "source": []
  }
 ],
 "metadata": {
  "kernelspec": {
   "display_name": "venv",
   "language": "python",
   "name": "venv"
  },
  "language_info": {
   "codemirror_mode": {
    "name": "ipython",
    "version": 3
   },
   "file_extension": ".py",
   "mimetype": "text/x-python",
   "name": "python",
   "nbconvert_exporter": "python",
   "pygments_lexer": "ipython3",
   "version": "3.10.4"
  }
 },
 "nbformat": 4,
 "nbformat_minor": 5
}
