{
 "cells": [
  {
   "attachments": {},
   "cell_type": "markdown",
   "metadata": {},
   "source": [
    "# Testing notebook\n",
    "\n",
    "This notebook is meant for visualizing stuff and testing code. "
   ]
  },
  {
   "cell_type": "code",
   "execution_count": 1,
   "metadata": {},
   "outputs": [],
   "source": [
    "import numpy as np\n",
    "import pandas as pd\n",
    "import os\n",
    "import warnings\n",
    "from dataclasses import dataclass\n",
    "from nltk.tokenize import word_tokenize\n",
    "from collections import defaultdict, Counter\n",
    "from contextlib import contextmanager\n",
    "from typing import Generator\n",
    "import demoji\n",
    "warnings.filterwarnings(\"ignore\", category=FutureWarning)\n",
    "\n",
    "import spacy\n",
    "from spacy.tokens import Doc, Span, Token\n",
    "from spacy import displacy\n",
    "from load_spacy import nlp"
   ]
  },
  {
   "cell_type": "code",
   "execution_count": 30,
   "metadata": {},
   "outputs": [],
   "source": [
    "\n",
    "def load_data(data_dir:str) -> pd.DataFrame:\n",
    "    \"\"\"Loads a .jsonl file\"\"\"\n",
    "    return pd.read_json(data_dir, lines=True)\n",
    "    \n",
    "\n",
    "test_docs = [\n",
    "    \"It was Jane's car that got stolen last night.\",\n",
    "    \"It is my boss who will send me home today.\",\n",
    "    \"It is me who tom saw today.\",\n",
    "    \"It was your friend Suzy I met!\",\n",
    "    \"Was it the boy in the hat who saw you?\",\n",
    "    \"It wasn't the dog in the tree that ate the apple.\"\n",
    "]\n",
    "\n"
   ]
  },
  {
   "cell_type": "code",
   "execution_count": 126,
   "metadata": {},
   "outputs": [
    {
     "name": "stdout",
     "output_type": "stream",
     "text": [
      "(was  (it ) (car   (Jane    (’s )  (stolen    (that )   (got )   (night     (last )\n"
     ]
    }
   ],
   "source": [
    "s = \"it was Jane’s car that got stolen last night\"\n",
    "doc = nlp(s)\n",
    "\n",
    "\n",
    "def has_children(token) -> bool:\n",
    "    return token.n_lefts + token.n_rights > 0\n",
    "        \n",
    "def parse_to_string(token):\n",
    "    stack = [(token, False)]\n",
    "    result = []\n",
    "\n",
    "    while stack:\n",
    "        current_token, processed = stack.pop()\n",
    "\n",
    "        if not processed:\n",
    "            stack.append((current_token, True))\n",
    "\n",
    "            if current_token.n_lefts + current_token.n_rights > 0:\n",
    "                result.append('(' + current_token.text)\n",
    "\n",
    "                for child in reversed(list(current_token.children)):\n",
    "                    stack.append((child, False))\n",
    "            else:\n",
    "                result.append('(' + current_token.text + ')')\n",
    "        else:\n",
    "            result.append(')')\n",
    "\n",
    "    return ' '.join(result)\n",
    "\n",
    "def convert_dependency_tree(sentence):\n",
    "    result = \"\"\n",
    "    stack = [(sentence.root, 0)]\n",
    "    \n",
    "    while stack:\n",
    "        token, level = stack.pop()\n",
    "        result += \" \" * level + \"(\" + token.text + \" \"\n",
    "        \n",
    "        children = [child for child in token.children][::-1]\n",
    "        if children:\n",
    "            stack.extend([(child, level + 1) for child in children])\n",
    "        else:\n",
    "            result += \")\"\n",
    "    \n",
    "    return result.strip()\n",
    "    \n",
    "    \n",
    "    \n",
    "    \n",
    "\n",
    "def generate_dependency_string(sentence:Span):\n",
    "    return convert_dependency_tree(sentence)\n",
    "\n",
    "for sent in doc.sents:\n",
    "    print(generate_dependency_string(sent))\n",
    "\n",
    "\n",
    "target1 = \"(was (it) (car (Jane  (‘s) (stolen (that) (got) (night (last)))))\"\n",
    "target2 = \"(was-be-VBD-Root (it-it-PRP-SUBJ) (car- (Jane  (‘s) (stolen (that) (got) (night (last)))))\""
   ]
  },
  {
   "cell_type": "code",
   "execution_count": 97,
   "metadata": {},
   "outputs": [
    {
     "ename": "SyntaxError",
     "evalue": "invalid syntax (3991570972.py, line 14)",
     "output_type": "error",
     "traceback": [
      "\u001b[0;36m  Cell \u001b[0;32mIn[97], line 14\u001b[0;36m\u001b[0m\n\u001b[0;31m    return self.features +=1\u001b[0m\n\u001b[0m                         ^\u001b[0m\n\u001b[0;31mSyntaxError\u001b[0m\u001b[0;31m:\u001b[0m invalid syntax\n"
     ]
    }
   ],
   "source": [
    "REGISTERD_FEATURES = {}\n",
    "\n",
    "class Feature:\n",
    "    \n",
    "    def __init__(self, func):\n",
    "        self.func = func    \n",
    "        self.name = func.__name__\n",
    "        \n",
    "    def __call__(self, doc):\n",
    "        features = self.func(doc)\n",
    "        return self.add_one_to_func_output()\n",
    "    \n",
    "    def add_one_to_func_output(self):\n",
    "        return self.features + 1\n",
    "    \n",
    "    @classmethod\n",
    "    def register(cls, func):\n",
    "        func = cls(func)\n",
    "        REGISTERD_FEATURES[func.name] = func\n",
    "        return func\n",
    "\n",
    " \n",
    "@Feature.register\n",
    "def func1(doc:int):\n",
    "    return doc\n",
    "\n",
    "@Feature.register\n",
    "def func2(doc:int):\n",
    "    return doc\n"
   ]
  },
  {
   "cell_type": "code",
   "execution_count": 96,
   "metadata": {},
   "outputs": [
    {
     "data": {
      "text/plain": [
       "1"
      ]
     },
     "execution_count": 96,
     "metadata": {},
     "output_type": "execute_result"
    }
   ],
   "source": [
    "REGISTERD_FEATURES[\"func1\"].features\n",
    "\n",
    "\n",
    "\n"
   ]
  },
  {
   "cell_type": "code",
   "execution_count": null,
   "metadata": {},
   "outputs": [],
   "source": []
  }
 ],
 "metadata": {
  "kernelspec": {
   "display_name": "Python 3 (ipykernel)",
   "language": "python",
   "name": "python3"
  },
  "language_info": {
   "codemirror_mode": {
    "name": "ipython",
    "version": 3
   },
   "file_extension": ".py",
   "mimetype": "text/x-python",
   "name": "python",
   "nbconvert_exporter": "python",
   "pygments_lexer": "ipython3",
   "version": "3.11.3"
  },
  "vscode": {
   "interpreter": {
    "hash": "8426aeb6a0394c95a6dca738b4382d3e4f73a60ab3fca776cba99777e8eb1027"
   }
  }
 },
 "nbformat": 4,
 "nbformat_minor": 2
}
