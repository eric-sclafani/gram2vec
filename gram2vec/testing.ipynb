{
 "cells": [
  {
   "attachments": {},
   "cell_type": "markdown",
   "metadata": {},
   "source": [
    "# Visualization notebook\n",
    "\n",
    "This notebook is meant for visualizing stuff and testing code. "
   ]
  },
  {
   "cell_type": "code",
   "execution_count": 2,
   "metadata": {},
   "outputs": [],
   "source": [
    "import numpy as np\n",
    "import pandas as pd\n",
    "import os\n",
    "import warnings\n",
    "import matplotlib.pyplot as plt\n",
    "import seaborn as sns\n",
    "import json\n",
    "from nltk import Tree\n",
    "from spacy import displacy\n",
    "import spacy\n",
    "from dataclasses import dataclass\n",
    "from nltk.tokenize import word_tokenize\n",
    "from collections import defaultdict, Counter\n",
    "from vectorizer import GrammarVectorizer, make_document\n",
    "from contextlib import contextmanager\n",
    "warnings.filterwarnings(\"ignore\", category=FutureWarning)"
   ]
  },
  {
   "cell_type": "code",
   "execution_count": 2,
   "metadata": {},
   "outputs": [],
   "source": [
    "@contextmanager\n",
    "def temp_change_dir(path:str):\n",
    "    \"\"\"Changes to a new directory specified by given path, and then reverts back to the old directory\"\"\"\n",
    "    oldpwd = os.getcwd()\n",
    "    os.chdir(path)\n",
    "    try:\n",
    "        yield\n",
    "    finally:\n",
    "        os.chdir(oldpwd)\n",
    "        \n",
    "def load_pan22() -> pd.DataFrame:\n",
    "    \"\"\"Loads PAN22 data as a dataframe\"\"\"\n",
    "    with temp_change_dir(\"../../\"):\n",
    "        return pd.read_json(\"data/pan22/preprocessed/pan22_preprocessed.jsonl\", lines=True)"
   ]
  },
  {
   "cell_type": "code",
   "execution_count": 4,
   "metadata": {},
   "outputs": [
    {
     "data": {
      "text/html": [
       "<div>\n",
       "<style scoped>\n",
       "    .dataframe tbody tr th:only-of-type {\n",
       "        vertical-align: middle;\n",
       "    }\n",
       "\n",
       "    .dataframe tbody tr th {\n",
       "        vertical-align: top;\n",
       "    }\n",
       "\n",
       "    .dataframe thead th {\n",
       "        text-align: right;\n",
       "    }\n",
       "</style>\n",
       "<table border=\"1\" class=\"dataframe\">\n",
       "  <thead>\n",
       "    <tr style=\"text-align: right;\">\n",
       "      <th></th>\n",
       "      <th>POS Unigram: ADJ</th>\n",
       "      <th>POS Unigram: ADP</th>\n",
       "      <th>POS Unigram: ADV</th>\n",
       "      <th>POS Unigram: AUX</th>\n",
       "      <th>POS Unigram: CCONJ</th>\n",
       "      <th>POS Unigram: DET</th>\n",
       "      <th>POS Unigram: INTJ</th>\n",
       "      <th>POS Unigram: NOUN</th>\n",
       "      <th>POS Unigram: NUM</th>\n",
       "      <th>POS Unigram: PART</th>\n",
       "      <th>...</th>\n",
       "      <th>Morphology tag: Part</th>\n",
       "      <th>Morphology tag: Inf</th>\n",
       "      <th>Morphology tag: Ger</th>\n",
       "      <th>Morphology tag: Pres</th>\n",
       "      <th>Morphology tag: Past</th>\n",
       "      <th>Morphology tag: Prog</th>\n",
       "      <th>Morphology tag: Perf</th>\n",
       "      <th>Morphology tag: 1</th>\n",
       "      <th>Morphology tag: 3</th>\n",
       "      <th>Morphology tag: 2</th>\n",
       "    </tr>\n",
       "  </thead>\n",
       "  <tbody>\n",
       "    <tr>\n",
       "      <th>0</th>\n",
       "      <td>0.0</td>\n",
       "      <td>0.0</td>\n",
       "      <td>0.0</td>\n",
       "      <td>0.0</td>\n",
       "      <td>0.0</td>\n",
       "      <td>0.0</td>\n",
       "      <td>0.0</td>\n",
       "      <td>0.0</td>\n",
       "      <td>0.0</td>\n",
       "      <td>0.0</td>\n",
       "      <td>...</td>\n",
       "      <td>0.0</td>\n",
       "      <td>0.0</td>\n",
       "      <td>0.0</td>\n",
       "      <td>0.0</td>\n",
       "      <td>0.0</td>\n",
       "      <td>0.0</td>\n",
       "      <td>0.0</td>\n",
       "      <td>0.0</td>\n",
       "      <td>0.0</td>\n",
       "      <td>0.0</td>\n",
       "    </tr>\n",
       "    <tr>\n",
       "      <th>1</th>\n",
       "      <td>0.0</td>\n",
       "      <td>0.0</td>\n",
       "      <td>0.0</td>\n",
       "      <td>0.0</td>\n",
       "      <td>0.0</td>\n",
       "      <td>0.0</td>\n",
       "      <td>0.0</td>\n",
       "      <td>0.0</td>\n",
       "      <td>0.0</td>\n",
       "      <td>0.0</td>\n",
       "      <td>...</td>\n",
       "      <td>0.0</td>\n",
       "      <td>0.0</td>\n",
       "      <td>0.0</td>\n",
       "      <td>0.0</td>\n",
       "      <td>0.0</td>\n",
       "      <td>0.0</td>\n",
       "      <td>0.0</td>\n",
       "      <td>0.0</td>\n",
       "      <td>0.0</td>\n",
       "      <td>0.0</td>\n",
       "    </tr>\n",
       "  </tbody>\n",
       "</table>\n",
       "<p>2 rows × 428 columns</p>\n",
       "</div>"
      ],
      "text/plain": [
       "   POS Unigram: ADJ  POS Unigram: ADP  POS Unigram: ADV  POS Unigram: AUX   \n",
       "0               0.0               0.0               0.0               0.0  \\\n",
       "1               0.0               0.0               0.0               0.0   \n",
       "\n",
       "   POS Unigram: CCONJ  POS Unigram: DET  POS Unigram: INTJ  POS Unigram: NOUN   \n",
       "0                 0.0               0.0                0.0                0.0  \\\n",
       "1                 0.0               0.0                0.0                0.0   \n",
       "\n",
       "   POS Unigram: NUM  POS Unigram: PART  ...  Morphology tag: Part   \n",
       "0               0.0                0.0  ...                   0.0  \\\n",
       "1               0.0                0.0  ...                   0.0   \n",
       "\n",
       "   Morphology tag: Inf  Morphology tag: Ger  Morphology tag: Pres   \n",
       "0                  0.0                  0.0                   0.0  \\\n",
       "1                  0.0                  0.0                   0.0   \n",
       "\n",
       "   Morphology tag: Past  Morphology tag: Prog  Morphology tag: Perf   \n",
       "0                   0.0                   0.0                   0.0  \\\n",
       "1                   0.0                   0.0                   0.0   \n",
       "\n",
       "   Morphology tag: 1  Morphology tag: 3  Morphology tag: 2  \n",
       "0                0.0                0.0                0.0  \n",
       "1                0.0                0.0                0.0  \n",
       "\n",
       "[2 rows x 428 columns]"
      ]
     },
     "execution_count": 4,
     "metadata": {},
     "output_type": "execute_result"
    }
   ],
   "source": []
  },
  {
   "cell_type": "code",
   "execution_count": 12,
   "metadata": {},
   "outputs": [
    {
     "data": {
      "text/plain": [
       "(3, 429)"
      ]
     },
     "execution_count": 12,
     "metadata": {},
     "output_type": "execute_result"
    }
   ],
   "source": []
  },
  {
   "cell_type": "code",
   "execution_count": null,
   "metadata": {},
   "outputs": [],
   "source": [
    "\n",
    "\n"
   ]
  },
  {
   "cell_type": "code",
   "execution_count": null,
   "metadata": {},
   "outputs": [],
   "source": []
  }
 ],
 "metadata": {
  "kernelspec": {
   "display_name": "Python 3 (ipykernel)",
   "language": "python",
   "name": "python3"
  },
  "language_info": {
   "codemirror_mode": {
    "name": "ipython",
    "version": 3
   },
   "file_extension": ".py",
   "mimetype": "text/x-python",
   "name": "python",
   "nbconvert_exporter": "python",
   "pygments_lexer": "ipython3",
   "version": "3.11.3"
  },
  "vscode": {
   "interpreter": {
    "hash": "8426aeb6a0394c95a6dca738b4382d3e4f73a60ab3fca776cba99777e8eb1027"
   }
  }
 },
 "nbformat": 4,
 "nbformat_minor": 2
}
