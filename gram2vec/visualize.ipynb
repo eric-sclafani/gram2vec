{
 "cells": [
  {
   "cell_type": "markdown",
   "metadata": {},
   "source": [
    "# Visualization notebook\n",
    "\n",
    "This notebook is meant for visualizing stuff and testing code. \n",
    "\n",
    "\n",
    "## Imports and functions"
   ]
  },
  {
   "cell_type": "code",
   "execution_count": 1,
   "metadata": {},
   "outputs": [],
   "source": [
    "import plotly.express as px\n",
    "import numpy as np\n",
    "import pandas as pd\n",
    "import warnings\n",
    "import json\n",
    "import jsonlines\n",
    "import os\n",
    "from pathlib import Path\n",
    "from dataclasses import dataclass\n",
    "from gram2vec.featurizers import GrammarVectorizer\n",
    "warnings.filterwarnings(\"ignore\", category=FutureWarning)\n",
    "\n",
    "\n",
    "# MUD: 1,071,477 authors"
   ]
  },
  {
   "cell_type": "markdown",
   "metadata": {},
   "source": [
    "### Plotting by bin"
   ]
  },
  {
   "cell_type": "code",
   "execution_count": 4,
   "metadata": {},
   "outputs": [
    {
     "data": {
      "application/vnd.plotly.v1+json": {
       "config": {
        "plotlyServerURL": "https://plot.ly"
       },
       "data": [
        {
         "hovertemplate": "variable=half_features<br>bin=%{x}<br>value=%{y}<extra></extra>",
         "legendgroup": "half_features",
         "line": {
          "color": "#636efa",
          "dash": "solid"
         },
         "marker": {
          "symbol": "circle"
         },
         "mode": "markers+lines",
         "name": "half_features",
         "orientation": "v",
         "showlegend": true,
         "type": "scatter",
         "x": [
          "1",
          "2",
          "3",
          "4",
          "5",
          "6",
          "7",
          "8"
         ],
         "xaxis": "x",
         "y": [
          0,
          0.02857142857142857,
          0.08571428571428572,
          0.11428571428571428,
          0.22857142857142856,
          0.22857142857142856,
          0.22857142857142856,
          0.4
         ],
         "yaxis": "y"
        },
        {
         "hovertemplate": "variable=all_features<br>bin=%{x}<br>value=%{y}<extra></extra>",
         "legendgroup": "all_features",
         "line": {
          "color": "#EF553B",
          "dash": "solid"
         },
         "marker": {
          "symbol": "circle"
         },
         "mode": "markers+lines",
         "name": "all_features",
         "orientation": "v",
         "showlegend": true,
         "type": "scatter",
         "x": [
          "1",
          "2",
          "3",
          "4",
          "5",
          "6",
          "7",
          "8"
         ],
         "xaxis": "x",
         "y": [
          0,
          0.05714285714285714,
          0.11428571428571428,
          0.17142857142857143,
          0.2,
          0.2,
          0.2857142857142857,
          0.5428571428571428
         ],
         "yaxis": "y"
        }
       ],
       "layout": {
        "legend": {
         "title": {
          "text": "variable"
         },
         "tracegroupgap": 0
        },
        "margin": {
         "t": 60
        },
        "template": {
         "data": {
          "bar": [
           {
            "error_x": {
             "color": "#f2f5fa"
            },
            "error_y": {
             "color": "#f2f5fa"
            },
            "marker": {
             "line": {
              "color": "rgb(17,17,17)",
              "width": 0.5
             },
             "pattern": {
              "fillmode": "overlay",
              "size": 10,
              "solidity": 0.2
             }
            },
            "type": "bar"
           }
          ],
          "barpolar": [
           {
            "marker": {
             "line": {
              "color": "rgb(17,17,17)",
              "width": 0.5
             },
             "pattern": {
              "fillmode": "overlay",
              "size": 10,
              "solidity": 0.2
             }
            },
            "type": "barpolar"
           }
          ],
          "carpet": [
           {
            "aaxis": {
             "endlinecolor": "#A2B1C6",
             "gridcolor": "#506784",
             "linecolor": "#506784",
             "minorgridcolor": "#506784",
             "startlinecolor": "#A2B1C6"
            },
            "baxis": {
             "endlinecolor": "#A2B1C6",
             "gridcolor": "#506784",
             "linecolor": "#506784",
             "minorgridcolor": "#506784",
             "startlinecolor": "#A2B1C6"
            },
            "type": "carpet"
           }
          ],
          "choropleth": [
           {
            "colorbar": {
             "outlinewidth": 0,
             "ticks": ""
            },
            "type": "choropleth"
           }
          ],
          "contour": [
           {
            "colorbar": {
             "outlinewidth": 0,
             "ticks": ""
            },
            "colorscale": [
             [
              0,
              "#0d0887"
             ],
             [
              0.1111111111111111,
              "#46039f"
             ],
             [
              0.2222222222222222,
              "#7201a8"
             ],
             [
              0.3333333333333333,
              "#9c179e"
             ],
             [
              0.4444444444444444,
              "#bd3786"
             ],
             [
              0.5555555555555556,
              "#d8576b"
             ],
             [
              0.6666666666666666,
              "#ed7953"
             ],
             [
              0.7777777777777778,
              "#fb9f3a"
             ],
             [
              0.8888888888888888,
              "#fdca26"
             ],
             [
              1,
              "#f0f921"
             ]
            ],
            "type": "contour"
           }
          ],
          "contourcarpet": [
           {
            "colorbar": {
             "outlinewidth": 0,
             "ticks": ""
            },
            "type": "contourcarpet"
           }
          ],
          "heatmap": [
           {
            "colorbar": {
             "outlinewidth": 0,
             "ticks": ""
            },
            "colorscale": [
             [
              0,
              "#0d0887"
             ],
             [
              0.1111111111111111,
              "#46039f"
             ],
             [
              0.2222222222222222,
              "#7201a8"
             ],
             [
              0.3333333333333333,
              "#9c179e"
             ],
             [
              0.4444444444444444,
              "#bd3786"
             ],
             [
              0.5555555555555556,
              "#d8576b"
             ],
             [
              0.6666666666666666,
              "#ed7953"
             ],
             [
              0.7777777777777778,
              "#fb9f3a"
             ],
             [
              0.8888888888888888,
              "#fdca26"
             ],
             [
              1,
              "#f0f921"
             ]
            ],
            "type": "heatmap"
           }
          ],
          "heatmapgl": [
           {
            "colorbar": {
             "outlinewidth": 0,
             "ticks": ""
            },
            "colorscale": [
             [
              0,
              "#0d0887"
             ],
             [
              0.1111111111111111,
              "#46039f"
             ],
             [
              0.2222222222222222,
              "#7201a8"
             ],
             [
              0.3333333333333333,
              "#9c179e"
             ],
             [
              0.4444444444444444,
              "#bd3786"
             ],
             [
              0.5555555555555556,
              "#d8576b"
             ],
             [
              0.6666666666666666,
              "#ed7953"
             ],
             [
              0.7777777777777778,
              "#fb9f3a"
             ],
             [
              0.8888888888888888,
              "#fdca26"
             ],
             [
              1,
              "#f0f921"
             ]
            ],
            "type": "heatmapgl"
           }
          ],
          "histogram": [
           {
            "marker": {
             "pattern": {
              "fillmode": "overlay",
              "size": 10,
              "solidity": 0.2
             }
            },
            "type": "histogram"
           }
          ],
          "histogram2d": [
           {
            "colorbar": {
             "outlinewidth": 0,
             "ticks": ""
            },
            "colorscale": [
             [
              0,
              "#0d0887"
             ],
             [
              0.1111111111111111,
              "#46039f"
             ],
             [
              0.2222222222222222,
              "#7201a8"
             ],
             [
              0.3333333333333333,
              "#9c179e"
             ],
             [
              0.4444444444444444,
              "#bd3786"
             ],
             [
              0.5555555555555556,
              "#d8576b"
             ],
             [
              0.6666666666666666,
              "#ed7953"
             ],
             [
              0.7777777777777778,
              "#fb9f3a"
             ],
             [
              0.8888888888888888,
              "#fdca26"
             ],
             [
              1,
              "#f0f921"
             ]
            ],
            "type": "histogram2d"
           }
          ],
          "histogram2dcontour": [
           {
            "colorbar": {
             "outlinewidth": 0,
             "ticks": ""
            },
            "colorscale": [
             [
              0,
              "#0d0887"
             ],
             [
              0.1111111111111111,
              "#46039f"
             ],
             [
              0.2222222222222222,
              "#7201a8"
             ],
             [
              0.3333333333333333,
              "#9c179e"
             ],
             [
              0.4444444444444444,
              "#bd3786"
             ],
             [
              0.5555555555555556,
              "#d8576b"
             ],
             [
              0.6666666666666666,
              "#ed7953"
             ],
             [
              0.7777777777777778,
              "#fb9f3a"
             ],
             [
              0.8888888888888888,
              "#fdca26"
             ],
             [
              1,
              "#f0f921"
             ]
            ],
            "type": "histogram2dcontour"
           }
          ],
          "mesh3d": [
           {
            "colorbar": {
             "outlinewidth": 0,
             "ticks": ""
            },
            "type": "mesh3d"
           }
          ],
          "parcoords": [
           {
            "line": {
             "colorbar": {
              "outlinewidth": 0,
              "ticks": ""
             }
            },
            "type": "parcoords"
           }
          ],
          "pie": [
           {
            "automargin": true,
            "type": "pie"
           }
          ],
          "scatter": [
           {
            "marker": {
             "line": {
              "color": "#283442"
             }
            },
            "type": "scatter"
           }
          ],
          "scatter3d": [
           {
            "line": {
             "colorbar": {
              "outlinewidth": 0,
              "ticks": ""
             }
            },
            "marker": {
             "colorbar": {
              "outlinewidth": 0,
              "ticks": ""
             }
            },
            "type": "scatter3d"
           }
          ],
          "scattercarpet": [
           {
            "marker": {
             "colorbar": {
              "outlinewidth": 0,
              "ticks": ""
             }
            },
            "type": "scattercarpet"
           }
          ],
          "scattergeo": [
           {
            "marker": {
             "colorbar": {
              "outlinewidth": 0,
              "ticks": ""
             }
            },
            "type": "scattergeo"
           }
          ],
          "scattergl": [
           {
            "marker": {
             "line": {
              "color": "#283442"
             }
            },
            "type": "scattergl"
           }
          ],
          "scattermapbox": [
           {
            "marker": {
             "colorbar": {
              "outlinewidth": 0,
              "ticks": ""
             }
            },
            "type": "scattermapbox"
           }
          ],
          "scatterpolar": [
           {
            "marker": {
             "colorbar": {
              "outlinewidth": 0,
              "ticks": ""
             }
            },
            "type": "scatterpolar"
           }
          ],
          "scatterpolargl": [
           {
            "marker": {
             "colorbar": {
              "outlinewidth": 0,
              "ticks": ""
             }
            },
            "type": "scatterpolargl"
           }
          ],
          "scatterternary": [
           {
            "marker": {
             "colorbar": {
              "outlinewidth": 0,
              "ticks": ""
             }
            },
            "type": "scatterternary"
           }
          ],
          "surface": [
           {
            "colorbar": {
             "outlinewidth": 0,
             "ticks": ""
            },
            "colorscale": [
             [
              0,
              "#0d0887"
             ],
             [
              0.1111111111111111,
              "#46039f"
             ],
             [
              0.2222222222222222,
              "#7201a8"
             ],
             [
              0.3333333333333333,
              "#9c179e"
             ],
             [
              0.4444444444444444,
              "#bd3786"
             ],
             [
              0.5555555555555556,
              "#d8576b"
             ],
             [
              0.6666666666666666,
              "#ed7953"
             ],
             [
              0.7777777777777778,
              "#fb9f3a"
             ],
             [
              0.8888888888888888,
              "#fdca26"
             ],
             [
              1,
              "#f0f921"
             ]
            ],
            "type": "surface"
           }
          ],
          "table": [
           {
            "cells": {
             "fill": {
              "color": "#506784"
             },
             "line": {
              "color": "rgb(17,17,17)"
             }
            },
            "header": {
             "fill": {
              "color": "#2a3f5f"
             },
             "line": {
              "color": "rgb(17,17,17)"
             }
            },
            "type": "table"
           }
          ]
         },
         "layout": {
          "annotationdefaults": {
           "arrowcolor": "#f2f5fa",
           "arrowhead": 0,
           "arrowwidth": 1
          },
          "autotypenumbers": "strict",
          "coloraxis": {
           "colorbar": {
            "outlinewidth": 0,
            "ticks": ""
           }
          },
          "colorscale": {
           "diverging": [
            [
             0,
             "#8e0152"
            ],
            [
             0.1,
             "#c51b7d"
            ],
            [
             0.2,
             "#de77ae"
            ],
            [
             0.3,
             "#f1b6da"
            ],
            [
             0.4,
             "#fde0ef"
            ],
            [
             0.5,
             "#f7f7f7"
            ],
            [
             0.6,
             "#e6f5d0"
            ],
            [
             0.7,
             "#b8e186"
            ],
            [
             0.8,
             "#7fbc41"
            ],
            [
             0.9,
             "#4d9221"
            ],
            [
             1,
             "#276419"
            ]
           ],
           "sequential": [
            [
             0,
             "#0d0887"
            ],
            [
             0.1111111111111111,
             "#46039f"
            ],
            [
             0.2222222222222222,
             "#7201a8"
            ],
            [
             0.3333333333333333,
             "#9c179e"
            ],
            [
             0.4444444444444444,
             "#bd3786"
            ],
            [
             0.5555555555555556,
             "#d8576b"
            ],
            [
             0.6666666666666666,
             "#ed7953"
            ],
            [
             0.7777777777777778,
             "#fb9f3a"
            ],
            [
             0.8888888888888888,
             "#fdca26"
            ],
            [
             1,
             "#f0f921"
            ]
           ],
           "sequentialminus": [
            [
             0,
             "#0d0887"
            ],
            [
             0.1111111111111111,
             "#46039f"
            ],
            [
             0.2222222222222222,
             "#7201a8"
            ],
            [
             0.3333333333333333,
             "#9c179e"
            ],
            [
             0.4444444444444444,
             "#bd3786"
            ],
            [
             0.5555555555555556,
             "#d8576b"
            ],
            [
             0.6666666666666666,
             "#ed7953"
            ],
            [
             0.7777777777777778,
             "#fb9f3a"
            ],
            [
             0.8888888888888888,
             "#fdca26"
            ],
            [
             1,
             "#f0f921"
            ]
           ]
          },
          "colorway": [
           "#636efa",
           "#EF553B",
           "#00cc96",
           "#ab63fa",
           "#FFA15A",
           "#19d3f3",
           "#FF6692",
           "#B6E880",
           "#FF97FF",
           "#FECB52"
          ],
          "font": {
           "color": "#f2f5fa"
          },
          "geo": {
           "bgcolor": "rgb(17,17,17)",
           "lakecolor": "rgb(17,17,17)",
           "landcolor": "rgb(17,17,17)",
           "showlakes": true,
           "showland": true,
           "subunitcolor": "#506784"
          },
          "hoverlabel": {
           "align": "left"
          },
          "hovermode": "closest",
          "mapbox": {
           "style": "dark"
          },
          "paper_bgcolor": "rgb(17,17,17)",
          "plot_bgcolor": "rgb(17,17,17)",
          "polar": {
           "angularaxis": {
            "gridcolor": "#506784",
            "linecolor": "#506784",
            "ticks": ""
           },
           "bgcolor": "rgb(17,17,17)",
           "radialaxis": {
            "gridcolor": "#506784",
            "linecolor": "#506784",
            "ticks": ""
           }
          },
          "scene": {
           "xaxis": {
            "backgroundcolor": "rgb(17,17,17)",
            "gridcolor": "#506784",
            "gridwidth": 2,
            "linecolor": "#506784",
            "showbackground": true,
            "ticks": "",
            "zerolinecolor": "#C8D4E3"
           },
           "yaxis": {
            "backgroundcolor": "rgb(17,17,17)",
            "gridcolor": "#506784",
            "gridwidth": 2,
            "linecolor": "#506784",
            "showbackground": true,
            "ticks": "",
            "zerolinecolor": "#C8D4E3"
           },
           "zaxis": {
            "backgroundcolor": "rgb(17,17,17)",
            "gridcolor": "#506784",
            "gridwidth": 2,
            "linecolor": "#506784",
            "showbackground": true,
            "ticks": "",
            "zerolinecolor": "#C8D4E3"
           }
          },
          "shapedefaults": {
           "line": {
            "color": "#f2f5fa"
           }
          },
          "sliderdefaults": {
           "bgcolor": "#C8D4E3",
           "bordercolor": "rgb(17,17,17)",
           "borderwidth": 1,
           "tickwidth": 0
          },
          "ternary": {
           "aaxis": {
            "gridcolor": "#506784",
            "linecolor": "#506784",
            "ticks": ""
           },
           "baxis": {
            "gridcolor": "#506784",
            "linecolor": "#506784",
            "ticks": ""
           },
           "bgcolor": "rgb(17,17,17)",
           "caxis": {
            "gridcolor": "#506784",
            "linecolor": "#506784",
            "ticks": ""
           }
          },
          "title": {
           "x": 0.05
          },
          "updatemenudefaults": {
           "bgcolor": "#506784",
           "borderwidth": 0
          },
          "xaxis": {
           "automargin": true,
           "gridcolor": "#283442",
           "linecolor": "#506784",
           "ticks": "",
           "title": {
            "standoff": 15
           },
           "zerolinecolor": "#283442",
           "zerolinewidth": 2
          },
          "yaxis": {
           "automargin": true,
           "gridcolor": "#283442",
           "linecolor": "#506784",
           "ticks": "",
           "title": {
            "standoff": 15
           },
           "zerolinecolor": "#283442",
           "zerolinewidth": 2
          }
         }
        },
        "title": {
         "text": "Accuracy per bin",
         "x": 0.5
        },
        "xaxis": {
         "anchor": "y",
         "domain": [
          0,
          1
         ],
         "title": {
          "text": "bin"
         }
        },
        "yaxis": {
         "anchor": "x",
         "domain": [
          0,
          1
         ],
         "title": {
          "text": "value"
         }
        }
       }
      }
     },
     "metadata": {},
     "output_type": "display_data"
    }
   ],
   "source": [
    "bin_nums = \"1 2 3 4 5 6 7 8\".split()\n",
    "\n",
    "dev_bin_avg_docs = []\n",
    "\n",
    "\n",
    "\n",
    "\n",
    "# manually recorded\n",
    "HALF_FEATS_ACCS = [0.0, 0.02857142857142857, 0.08571428571428572, 0.11428571428571428, 0.22857142857142856, 0.22857142857142856, 0.22857142857142856, 0.4]\n",
    "ALL_FEATS_ACCS = [0.0, 0.05714285714285714, 0.11428571428571428, 0.17142857142857143, 0.2, 0.2, 0.2857142857142857, 0.5428571428571428]\n",
    "\n",
    "\n",
    "df = pd.DataFrame.from_dict({\"half_features\": HALF_FEATS_ACCS,\n",
    "                             \"all_features\" : ALL_FEATS_ACCS,\n",
    "                             \"bin\":bin_nums})\n",
    "\n",
    "\n",
    "fig = px.line(df, x=\"bin\", y=df.columns[0:2], template=\"plotly_dark\", markers=True,)\n",
    "fig.update_layout(title_text=\"Accuracy per bin\", title_x=0.5)\n",
    "\n"
   ]
  },
  {
   "attachments": {},
   "cell_type": "markdown",
   "metadata": {},
   "source": [
    "# Summary stats\n",
    "\n",
    "- Mean/std \\# of tokens per document\n",
    "- Mean/std \\# of tokens per author\n",
    "- Mean/std \\# of documents per author\n",
    "\n",
    "CODE BELOW IS OUTDATED"
   ]
  },
  {
   "cell_type": "code",
   "execution_count": 5,
   "metadata": {},
   "outputs": [
    {
     "name": "stdout",
     "output_type": "stream",
     "text": [
      "Mean/std tokens per document\n",
      "247.99808978032473\n",
      "220.32835614956986\n",
      "\n",
      "Mean/std tokens per author\n",
      "4636.678571428572\n",
      "1772.7924311172276\n",
      "\n",
      "Mean/std document frequency per author\n",
      "18.696428571428573\n",
      "6.114735255503541\n"
     ]
    }
   ],
   "source": [
    "def load_json(path):\n",
    "    with open(path, \"r\") as fin:\n",
    "        data = json.load(fin)\n",
    "        return data\n",
    "\n",
    "data = load_json(\"data/pan/preprocessed/fixed_sorted_author.json\")\n",
    "\n",
    "def get_document_token_counts(data:dict[str, list]):\n",
    "    token_counts = []\n",
    "    for author_id in data.keys():\n",
    "        for doc in data[author_id]:\n",
    "            doc_tokens = doc.split()\n",
    "            token_counts.append(len(doc_tokens))\n",
    "    return token_counts\n",
    "\n",
    "doc_token_counts = get_document_token_counts(data) \n",
    "print(\"Mean/std tokens per document\")      \n",
    "print(np.mean(doc_token_counts))\n",
    "print(np.std(doc_token_counts))\n",
    "\n",
    "\n",
    "def get_author_token_counts(data:dict[str, list[str]]) -> list[int]:\n",
    "    \n",
    "    author_to_token_counts = {}\n",
    "    for author_id in data.keys():\n",
    "        token_counts = []\n",
    "        for doc in data[author_id]:\n",
    "            doc_tokens = doc.split()\n",
    "            token_counts.append(len(doc_tokens))\n",
    "            \n",
    "        author_to_token_counts[author_id] = sum(token_counts)\n",
    "            \n",
    "    return list(author_to_token_counts.values())\n",
    "\n",
    "\n",
    "author_token_counts = get_author_token_counts(data)\n",
    "\n",
    "print(\"\\nMean/std tokens per author\")\n",
    "print(np.mean(author_token_counts))\n",
    "print(np.std(author_token_counts))\n",
    "\n",
    "\n",
    "def get_num_docs_per_author(data:dict[str, list[str]]) -> list[int]:\n",
    "    author_to_doc_freq = {}\n",
    "    for author_id in data.keys():\n",
    "        author_to_doc_freq[author_id] = len(data[author_id])\n",
    "    return list(author_to_doc_freq.values())\n",
    "\n",
    "docs_per_author = get_num_docs_per_author(data)\n",
    "\n",
    "print(\"\\nMean/std document frequency per author\")\n",
    "print(np.mean(docs_per_author))\n",
    "print(np.std(docs_per_author))\n"
   ]
  },
  {
   "cell_type": "code",
   "execution_count": null,
   "metadata": {},
   "outputs": [],
   "source": [
    "\n"
   ]
  },
  {
   "attachments": {},
   "cell_type": "markdown",
   "metadata": {},
   "source": [
    "# The following cells are for generating my CSE 564 dataset"
   ]
  },
  {
   "cell_type": "code",
   "execution_count": 64,
   "metadata": {},
   "outputs": [],
   "source": [
    "@dataclass\n",
    "class AuthorEntry:\n",
    "    author_id:str\n",
    "    discourse_type:str\n",
    "    fixed_text:str\n",
    "\n",
    "def iter_author_jsonls(author_files_dir:str) -> str:\n",
    "    \"\"\"Yields each {author_id}.jsonl from a given dir\"\"\"\n",
    "    for author_file in Path(author_files_dir).glob(\"*.jsonl\"):\n",
    "        yield author_file\n",
    "        \n",
    "def iter_author_entries(author_file):\n",
    "    \"\"\"Yields each JSON object from an {author_id}.jsonl file\"\"\"\n",
    "    with jsonlines.open(author_file) as author_entries:\n",
    "        for entry in author_entries:\n",
    "            yield entry\n",
    "            \n",
    "def get_all_entries(data_dir:str) -> list[AuthorEntry]:\n",
    "    \"\"\"Extracts author file entries as AuthorEntry objects and aggregates into one list\"\"\"\n",
    "    all_entries = []\n",
    "    for author_file in iter_author_jsonls(data_dir):\n",
    "        for entry in iter_author_entries(author_file):\n",
    "            all_entries.append(AuthorEntry(entry[\"author_id\"], entry[\"discourse_type\"], entry[\"fixed_text\"]))\n",
    "    return all_entries\n",
    "\n",
    "data_dir = \"data/pan22/preprocessed/\"\n",
    "all_entries = get_all_entries(data_dir)\n",
    "\n",
    "documents = [entry.fixed_text for entry in all_entries]\n",
    "authors = [entry.author_id for entry in all_entries]\n",
    "discourse_types = [entry.discourse_type for entry in all_entries]\n",
    "\n",
    "g2v = GrammarVectorizer()\n",
    "\n",
    "feature_vectors = g2v.vectorize_episode(documents)\n",
    "\n",
    "\n"
   ]
  },
  {
   "cell_type": "code",
   "execution_count": 8,
   "metadata": {},
   "outputs": [],
   "source": [
    "def get_vocab(path) -> list[str]:\n",
    "    with open(path, \"r\") as fin:\n",
    "        return fin.read().strip().split(\"\\n\")\n",
    "\n",
    "pos_unigrams  = get_vocab(\"vocab/static/pos_unigrams.txt\")\n",
    "pos_bigrams   = get_vocab(\"vocab/non_static/pos_bigrams/pan/pos_bigrams.txt\")\n",
    "func_words    = get_vocab(\"vocab/static/function_words.txt\")\n",
    "punc          = get_vocab(\"vocab/static/punc_marks.txt\")\n",
    "letters       = get_vocab(\"vocab/static/letters.txt\")\n",
    "common_emojis = get_vocab(\"vocab/static/common_emojis.txt\")\n",
    "doc_stats     = [\"short_words\", \"large_words\", \"word_len_avg\", \"word_len_std\", \"sent_len_avg\", \"sent_len_std\", \"hapaxes\"]\n",
    "deps          = get_vocab(\"vocab/static/dep_labels.txt\")\n",
    "mixed_bigrams = get_vocab(\"vocab/non_static/mixed_bigrams/pan/mixed_bigrams.txt\")\n",
    "\n",
    "all_features = pos_unigrams + pos_bigrams + func_words + punc + letters + common_emojis + doc_stats + deps + mixed_bigrams\n",
    "\n",
    "def convert_feature_name(feature:str, seen_i, seen_a, seen_X) -> str:\n",
    "    \"\"\"\n",
    "    Hard coded way of making certain conflicting feature names unique.\n",
    "    Needs to be done to ensure each feature in data viz dataset is unique\n",
    "    \"\"\"\n",
    "    if feature == \"i\": \n",
    "        feature = \"i (func_word)\" if not seen_i else \"i (letter)\"\n",
    "            \n",
    "    elif feature == \"a\":\n",
    "        feature = \"a (func_word)\" if not seen_a else \"a (letter)\"\n",
    "        \n",
    "    elif feature == \"X\":\n",
    "        feature = \"X (pos_unigram)\" if not seen_X else \"X (letter)\"\n",
    "        \n",
    "    return feature\n",
    "        \n",
    "\n",
    "def make_feature_to_counts_map(all_features:list[str]) -> dict[str,list]:\n",
    "    \"\"\"\n",
    "    Maps each feature to an empty list. Accounts for DIFFERENT features with the SAME label\n",
    "    \n",
    "    i.e. some distinct features have the same labels (\"i\", \"a\", \"X\"), so for data visualization purposes,\n",
    "    they need to be renamed to be distinct. This DOES NOT affect the vectors in any way. \n",
    "    \n",
    "    The conditionals here follow the same concatenation order as all_features\n",
    "    \"\"\"\n",
    "    seen_i, seen_a, seen_X = False, False, False\n",
    "    count_dict = {}\n",
    "    for feature in all_features:\n",
    "        if feature == \"i\":\n",
    "            feature = convert_feature_name(feature, seen_i, seen_a, seen_X)\n",
    "            seen_i = True\n",
    "            \n",
    "        if feature == \"a\":\n",
    "            feature = convert_feature_name(feature, seen_i, seen_a, seen_X)\n",
    "            seen_a = True\n",
    "            \n",
    "        if feature == \"X\":\n",
    "            feature = convert_feature_name(feature, seen_i, seen_a, seen_X)\n",
    "            seen_X = True\n",
    "            \n",
    "        count_dict[feature] = []\n",
    "    return count_dict\n",
    "\n",
    "            \n",
    "def populate_feature_to_counts_map(all_features:list[str], feature_vectors:list) -> dict[str,list[int]]:\n",
    "    \"\"\"\n",
    "    Populates the feature_to_count dict. Accounts for DIFFERENT features with the SAME label\n",
    "    \n",
    "    For every feature's count_dict, append the feature name's count number to \n",
    "    corresponding list in feats_to_counts\n",
    "    \"\"\"\n",
    "    feats_to_counts = make_feature_to_counts_map(all_features)\n",
    "    seen_i, seen_a, seen_X = False, False, False\n",
    "    \n",
    "    for feature in feature_vectors:\n",
    "        for count_dict in feature.count_map.values():\n",
    "            for feat_name, count in count_dict.items():\n",
    "                \n",
    "                if feat_name == \"i\":\n",
    "                    feat_name = convert_feature_name(feat_name, seen_i, seen_a, seen_X)\n",
    "                    seen_i = True\n",
    "                    \n",
    "                if feat_name == \"a\":\n",
    "                    feat_name = convert_feature_name(feat_name, seen_i, seen_a, seen_X)\n",
    "                    seen_a = True\n",
    "                    \n",
    "                if feat_name == \"X\":\n",
    "                    feat_name = convert_feature_name(feat_name, seen_i, seen_a, seen_X)\n",
    "                    seen_X = True\n",
    "                       \n",
    "                feats_to_counts[str(feat_name)].append(count)\n",
    "        seen_i, seen_a, seen_X = False, False, False # reset flags for every count_dict\n",
    "            \n",
    "    return feats_to_counts\n",
    "\n",
    "features_to_count_lists = populate_feature_to_counts_map(all_features, feature_vectors)"
   ]
  },
  {
   "cell_type": "code",
   "execution_count": null,
   "metadata": {},
   "outputs": [],
   "source": []
  },
  {
   "cell_type": "code",
   "execution_count": 39,
   "metadata": {},
   "outputs": [
    {
     "data": {
      "text/html": [
       "<div>\n",
       "<style scoped>\n",
       "    .dataframe tbody tr th:only-of-type {\n",
       "        vertical-align: middle;\n",
       "    }\n",
       "\n",
       "    .dataframe tbody tr th {\n",
       "        vertical-align: top;\n",
       "    }\n",
       "\n",
       "    .dataframe thead th {\n",
       "        text-align: right;\n",
       "    }\n",
       "</style>\n",
       "<table border=\"1\" class=\"dataframe\">\n",
       "  <thead>\n",
       "    <tr style=\"text-align: right;\">\n",
       "      <th></th>\n",
       "      <th>author_id</th>\n",
       "      <th>discourse_type</th>\n",
       "      <th>ADJ</th>\n",
       "      <th>ADP</th>\n",
       "      <th>ADV</th>\n",
       "      <th>AUX</th>\n",
       "      <th>CCONJ</th>\n",
       "      <th>DET</th>\n",
       "      <th>INTJ</th>\n",
       "      <th>NOUN</th>\n",
       "      <th>...</th>\n",
       "      <th>('was', 'VERB')</th>\n",
       "      <th>('NOUN', 'is')</th>\n",
       "      <th>('INTJ', 'I')</th>\n",
       "      <th>('VERB', 'your')</th>\n",
       "      <th>('can', 'VERB')</th>\n",
       "      <th>('NOUN', 'was')</th>\n",
       "      <th>('NOUN', 'have')</th>\n",
       "      <th>('an', 'NOUN')</th>\n",
       "      <th>('ADV', 'the')</th>\n",
       "      <th>('n’t', 'VERB')</th>\n",
       "    </tr>\n",
       "  </thead>\n",
       "  <tbody>\n",
       "    <tr>\n",
       "      <th>0</th>\n",
       "      <td>en_58</td>\n",
       "      <td>email</td>\n",
       "      <td>6</td>\n",
       "      <td>19</td>\n",
       "      <td>13</td>\n",
       "      <td>35</td>\n",
       "      <td>9</td>\n",
       "      <td>19</td>\n",
       "      <td>10</td>\n",
       "      <td>43</td>\n",
       "      <td>...</td>\n",
       "      <td>1</td>\n",
       "      <td>1</td>\n",
       "      <td>1</td>\n",
       "      <td>0</td>\n",
       "      <td>0</td>\n",
       "      <td>1</td>\n",
       "      <td>0</td>\n",
       "      <td>1</td>\n",
       "      <td>1</td>\n",
       "      <td>0</td>\n",
       "    </tr>\n",
       "    <tr>\n",
       "      <th>1</th>\n",
       "      <td>en_58</td>\n",
       "      <td>text_message</td>\n",
       "      <td>6</td>\n",
       "      <td>6</td>\n",
       "      <td>6</td>\n",
       "      <td>5</td>\n",
       "      <td>2</td>\n",
       "      <td>2</td>\n",
       "      <td>1</td>\n",
       "      <td>17</td>\n",
       "      <td>...</td>\n",
       "      <td>0</td>\n",
       "      <td>0</td>\n",
       "      <td>0</td>\n",
       "      <td>0</td>\n",
       "      <td>0</td>\n",
       "      <td>0</td>\n",
       "      <td>0</td>\n",
       "      <td>0</td>\n",
       "      <td>0</td>\n",
       "      <td>0</td>\n",
       "    </tr>\n",
       "    <tr>\n",
       "      <th>2</th>\n",
       "      <td>en_58</td>\n",
       "      <td>memo</td>\n",
       "      <td>8</td>\n",
       "      <td>12</td>\n",
       "      <td>2</td>\n",
       "      <td>15</td>\n",
       "      <td>0</td>\n",
       "      <td>11</td>\n",
       "      <td>1</td>\n",
       "      <td>27</td>\n",
       "      <td>...</td>\n",
       "      <td>0</td>\n",
       "      <td>2</td>\n",
       "      <td>0</td>\n",
       "      <td>1</td>\n",
       "      <td>0</td>\n",
       "      <td>0</td>\n",
       "      <td>1</td>\n",
       "      <td>0</td>\n",
       "      <td>0</td>\n",
       "      <td>0</td>\n",
       "    </tr>\n",
       "    <tr>\n",
       "      <th>3</th>\n",
       "      <td>en_58</td>\n",
       "      <td>text_message</td>\n",
       "      <td>7</td>\n",
       "      <td>6</td>\n",
       "      <td>6</td>\n",
       "      <td>5</td>\n",
       "      <td>1</td>\n",
       "      <td>6</td>\n",
       "      <td>0</td>\n",
       "      <td>20</td>\n",
       "      <td>...</td>\n",
       "      <td>0</td>\n",
       "      <td>0</td>\n",
       "      <td>0</td>\n",
       "      <td>0</td>\n",
       "      <td>1</td>\n",
       "      <td>0</td>\n",
       "      <td>0</td>\n",
       "      <td>0</td>\n",
       "      <td>0</td>\n",
       "      <td>0</td>\n",
       "    </tr>\n",
       "    <tr>\n",
       "      <th>4</th>\n",
       "      <td>en_58</td>\n",
       "      <td>text_message</td>\n",
       "      <td>10</td>\n",
       "      <td>9</td>\n",
       "      <td>3</td>\n",
       "      <td>8</td>\n",
       "      <td>4</td>\n",
       "      <td>7</td>\n",
       "      <td>1</td>\n",
       "      <td>22</td>\n",
       "      <td>...</td>\n",
       "      <td>0</td>\n",
       "      <td>0</td>\n",
       "      <td>0</td>\n",
       "      <td>0</td>\n",
       "      <td>1</td>\n",
       "      <td>0</td>\n",
       "      <td>0</td>\n",
       "      <td>0</td>\n",
       "      <td>0</td>\n",
       "      <td>0</td>\n",
       "    </tr>\n",
       "  </tbody>\n",
       "</table>\n",
       "<p>5 rows × 409 columns</p>\n",
       "</div>"
      ],
      "text/plain": [
       "  author_id discourse_type  ADJ  ADP  ADV  AUX  CCONJ  DET  INTJ  NOUN  ...  \\\n",
       "0     en_58          email    6   19   13   35      9   19    10    43  ...   \n",
       "1     en_58   text_message    6    6    6    5      2    2     1    17  ...   \n",
       "2     en_58           memo    8   12    2   15      0   11     1    27  ...   \n",
       "3     en_58   text_message    7    6    6    5      1    6     0    20  ...   \n",
       "4     en_58   text_message   10    9    3    8      4    7     1    22  ...   \n",
       "\n",
       "   ('was', 'VERB')  ('NOUN', 'is')  ('INTJ', 'I')  ('VERB', 'your')  \\\n",
       "0                1               1              1                 0   \n",
       "1                0               0              0                 0   \n",
       "2                0               2              0                 1   \n",
       "3                0               0              0                 0   \n",
       "4                0               0              0                 0   \n",
       "\n",
       "   ('can', 'VERB')  ('NOUN', 'was')  ('NOUN', 'have')  ('an', 'NOUN')  \\\n",
       "0                0                1                 0               1   \n",
       "1                0                0                 0               0   \n",
       "2                0                0                 1               0   \n",
       "3                1                0                 0               0   \n",
       "4                1                0                 0               0   \n",
       "\n",
       "   ('ADV', 'the')  ('n’t', 'VERB')  \n",
       "0               1                0  \n",
       "1               0                0  \n",
       "2               0                0  \n",
       "3               0                0  \n",
       "4               0                0  \n",
       "\n",
       "[5 rows x 409 columns]"
      ]
     },
     "execution_count": 39,
     "metadata": {},
     "output_type": "execute_result"
    }
   ],
   "source": [
    "df = pd.DataFrame(features_to_count_lists)\n",
    "df.insert(0, \"author_id\", authors)\n",
    "df.insert(1, \"discourse_type\", discourse_types)"
   ]
  },
  {
   "cell_type": "code",
   "execution_count": 40,
   "metadata": {},
   "outputs": [],
   "source": [
    "try:\n",
    "    os.chdir(\"../../cse564/project2/data/\")\n",
    "except:pass\n",
    "\n",
    "df.to_csv(\"pan22_features.csv\", index=None)"
   ]
  },
  {
   "attachments": {},
   "cell_type": "markdown",
   "metadata": {},
   "source": [
    "# The following cells get statistics about discourse types"
   ]
  },
  {
   "cell_type": "code",
   "execution_count": 16,
   "metadata": {},
   "outputs": [
    {
     "data": {
      "text/plain": [
       "Counter({'email': 508, 'text_message': 390, 'memo': 56, 'essay': 93})"
      ]
     },
     "execution_count": 16,
     "metadata": {},
     "output_type": "execute_result"
    }
   ],
   "source": []
  },
  {
   "cell_type": "code",
   "execution_count": 28,
   "metadata": {},
   "outputs": [
    {
     "name": "stdout",
     "output_type": "stream",
     "text": [
      "Email avg tokens:  331.5807086614173\n",
      "Txt msgs avg tokens:  109.21794871794872\n",
      "Essays avg tokens:  412.86021505376345\n",
      "Memo avg tokens:  182.10714285714286\n"
     ]
    }
   ],
   "source": [
    "emails = [entry.fixed_text for entry in all_entries if entry.discourse_type == \"email\"]\n",
    "txt_msgs = [entry.fixed_text for entry in all_entries if entry.discourse_type == \"text_message\"]\n",
    "essays = [entry.fixed_text for entry in all_entries if entry.discourse_type == \"essay\"]\n",
    "memos = [entry.fixed_text for entry in all_entries if entry.discourse_type == \"memo\"]\n",
    "\n",
    "def get_token_counts(documents:list[str]) -> list[int]:\n",
    "    return [len(doc.split()) for doc in documents]\n",
    "\n",
    "print(\"Email avg tokens: \", np.mean(get_token_counts(emails)))\n",
    "print(\"Txt msgs avg tokens: \", np.mean(get_token_counts(txt_msgs)))\n",
    "print(\"Essays avg tokens: \", np.mean(get_token_counts(essays)))\n",
    "print(\"Memo avg tokens: \", np.mean(get_token_counts(memos)))\n",
    "\n",
    "    "
   ]
  },
  {
   "cell_type": "code",
   "execution_count": 61,
   "metadata": {},
   "outputs": [
    {
     "name": "stdout",
     "output_type": "stream",
     "text": [
      "[[0.  0.1 0.1 0.2 0.2 0.3 0.3 0.4]]\n"
     ]
    },
    {
     "data": {
      "text/plain": [
       "['D', 'C', 'A', 'B', 'B', 'C', 'A', 'D']"
      ]
     },
     "execution_count": 61,
     "metadata": {},
     "output_type": "execute_result"
    }
   ],
   "source": [
    "from sklearn.neighbors import KNeighborsClassifier\n",
    "import numpy as np\n",
    "\n",
    "def encode_labels(labels:list[str]) -> list[int]:\n",
    "    encodings = {\"A\":100, \n",
    "                 \"B\":200, \n",
    "                 \"C\":300, \n",
    "                 \"D\":400, \n",
    "                 \"E\":500}\n",
    "    return [encodings[c] for c in labels]\n",
    "\n",
    "def decode_labels(label_ints:list[int]) -> list[str]:\n",
    "    decodings = {100:\"A\",\n",
    "                 200:\"B\",\n",
    "                 300:\"C\",\n",
    "                 400:\"D\",\n",
    "                 500:\"E\"}\n",
    "    return [decodings[i] for i in label_ints]\n",
    "\n",
    "def get_items_from_indices(labels:list[str], indices:np.ndarray) -> list[str]:\n",
    "    return [labels[i] for i in indices.squeeze()]\n",
    "\n",
    "\n",
    "train = np.array([[0.1],[0.2],[0.3],[0.4],[0.5],[0.6],[0.7],[0.8],[0.9],[1.0],[1.1],[1.2],[1.3],[1.4],[1.5],[1.6],[1.7],[1.8],[1.9],[2.0]])\n",
    "labels = ['A','A','B','A','B','C','A','B','C','D','A','B','C','D','E','A','B','C','D','E']\n",
    "\n",
    "test = np.array([[1]])\n",
    "\n",
    "\n",
    "knn = KNeighborsClassifier(n_neighbors=8)\n",
    "knn.fit(train, encode_labels(labels))\n",
    "\n",
    "\n",
    "distances, indices = knn.kneighbors(test)\n",
    "#knn.predict_proba(test_doc)\n",
    "\n",
    "print(distances)\n",
    "get_items_from_indices(labels, indices)"
   ]
  },
  {
   "cell_type": "code",
   "execution_count": 57,
   "metadata": {},
   "outputs": [
    {
     "data": {
      "text/plain": [
       "array([[ 9,  8, 10,  7, 11, 12,  6, 13]])"
      ]
     },
     "execution_count": 57,
     "metadata": {},
     "output_type": "execute_result"
    }
   ],
   "source": []
  },
  {
   "cell_type": "code",
   "execution_count": null,
   "metadata": {},
   "outputs": [],
   "source": []
  }
 ],
 "metadata": {
  "kernelspec": {
   "display_name": "Python 3 (ipykernel)",
   "language": "python",
   "name": "python3"
  },
  "language_info": {
   "codemirror_mode": {
    "name": "ipython",
    "version": 3
   },
   "file_extension": ".py",
   "mimetype": "text/x-python",
   "name": "python",
   "nbconvert_exporter": "python",
   "pygments_lexer": "ipython3",
   "version": "3.9.12"
  },
  "vscode": {
   "interpreter": {
    "hash": "8426aeb6a0394c95a6dca738b4382d3e4f73a60ab3fca776cba99777e8eb1027"
   }
  }
 },
 "nbformat": 4,
 "nbformat_minor": 2
}
